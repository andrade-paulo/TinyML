{
  "cells": [
    {
      "cell_type": "markdown",
      "metadata": {
        "id": "baLYkALOoTcB"
      },
      "source": [
        "**Grupo:**\n",
        "- MATHEUS VYNICIUS SILVA JALES\n",
        "- PAULO HENRIQUE ALMEIDA DE ANDRADE"
      ]
    },
    {
      "cell_type": "markdown",
      "metadata": {
        "id": "8LXOB7WZMEyN"
      },
      "source": [
        "# Primeira Rede Neural TensorFlow (TF)"
      ]
    },
    {
      "cell_type": "markdown",
      "metadata": {
        "id": "O9_MLEnwMGLw"
      },
      "source": [
        "## Importando as bibliotecas"
      ]
    },
    {
      "cell_type": "code",
      "execution_count": null,
      "metadata": {
        "colab": {
          "base_uri": "https://localhost:8080/"
        },
        "id": "QCm3x_4F8bvg",
        "outputId": "4e671d5b-fcc0-4a20-8574-c0ce79a687a9"
      },
      "outputs": [
        {
          "output_type": "stream",
          "name": "stdout",
          "text": [
            "2.15.0\n"
          ]
        }
      ],
      "source": [
        "import tensorflow as tf\n",
        "import numpy as np\n",
        "\n",
        "print(tf.version.VERSION)"
      ]
    },
    {
      "cell_type": "markdown",
      "metadata": {
        "id": "TFwzjVOyMYj0"
      },
      "source": [
        "## Conjunto de dados (Dataset)"
      ]
    },
    {
      "cell_type": "code",
      "execution_count": null,
      "metadata": {
        "id": "o4i0p7efDX2M"
      },
      "outputs": [],
      "source": [
        "# Define alguns dados para treino (xs como entradas e ys como saídas)\n",
        "\n",
        "xs = np.array([-1.0,  0.0, 1.0, 2.0, 3.0, 4.0], dtype=float)\n",
        "ys = np.array([-3.0, -1.0, 1.0, 3.0, 5.0, 7.0], dtype=float)"
      ]
    },
    {
      "cell_type": "code",
      "execution_count": null,
      "metadata": {
        "colab": {
          "base_uri": "https://localhost:8080/"
        },
        "id": "B18xXBYQZAvH",
        "outputId": "5f8109e9-4090-401f-e04c-c9b6b957f95d"
      },
      "outputs": [
        {
          "output_type": "stream",
          "name": "stdout",
          "text": [
            "[-1.  0.  1.  2.  3.  4.] (6,)\n",
            "[-3. -1.  1.  3.  5.  7.] (6,)\n"
          ]
        }
      ],
      "source": [
        "#o tipo \"list\" fornece um parâmetro \"shape\" com o formato da lista, ou seja, quais dimensões\n",
        "print(xs, xs.shape)\n",
        "print(ys, ys.shape)"
      ]
    },
    {
      "cell_type": "markdown",
      "metadata": {
        "id": "GVMr79-_MiII"
      },
      "source": [
        "## Definindo o Modelo (Arquitetura NN)"
      ]
    },
    {
      "cell_type": "code",
      "execution_count": null,
      "metadata": {
        "id": "CLqOZPfC8gfb"
      },
      "outputs": [],
      "source": [
        "# Define uma rede neuraral (NN) com 1 neurônio\n",
        "# Para maior informações sobre funções TF: https://www.tensorflow.org/api_docs\n",
        "\n",
        "model = tf.keras.Sequential(\n",
        "          [tf.keras.layers.Dense( units=1, input_shape=[1])]\n",
        "    )"
      ]
    },
    {
      "cell_type": "code",
      "execution_count": null,
      "metadata": {
        "colab": {
          "base_uri": "https://localhost:8080/"
        },
        "id": "B_iL7WpMNCWp",
        "outputId": "e156279c-54e8-4a9d-a64b-6c88a51a128f"
      },
      "outputs": [
        {
          "output_type": "stream",
          "name": "stdout",
          "text": [
            "Model: \"sequential\"\n",
            "_________________________________________________________________\n",
            " Layer (type)                Output Shape              Param #   \n",
            "=================================================================\n",
            " dense (Dense)               (None, 1)                 2         \n",
            "                                                                 \n",
            "=================================================================\n",
            "Total params: 2 (8.00 Byte)\n",
            "Trainable params: 2 (8.00 Byte)\n",
            "Non-trainable params: 0 (0.00 Byte)\n",
            "_________________________________________________________________\n"
          ]
        }
      ],
      "source": [
        "#mostra um resumo de todas as camadas e parâmetros da NN\n",
        "model.summary()"
      ]
    },
    {
      "cell_type": "markdown",
      "metadata": {
        "id": "4OwyFUcKO_Bf"
      },
      "source": [
        "**Inicialização dos parâmetros padrão**\n",
        "- kernel_initializer ('ws') => 'glorot_uniform' (Xavier)\n",
        "- bias_initializer  ('bs') => 'zeros'\n",
        "\n",
        "-> O objetivo da Xavier Initialization é inicializar os pesos de forma que a variação das ativações seja a mesma em todas as camadas. Essa variação constante ajuda a evitar que o gradiente exploda ou desapareça."
      ]
    },
    {
      "cell_type": "markdown",
      "metadata": {
        "id": "UsF5wyWpO3fP"
      },
      "source": [
        "**Visualizando pesos iniciais (parâmetros)**"
      ]
    },
    {
      "cell_type": "code",
      "execution_count": null,
      "metadata": {
        "colab": {
          "base_uri": "https://localhost:8080/"
        },
        "id": "foCw7XZhNU8i",
        "outputId": "8a9d9133-5ce5-4c0a-c42d-bb672d5720f0"
      },
      "outputs": [
        {
          "output_type": "execute_result",
          "data": {
            "text/plain": [
              "[array([[-1.041523]], dtype=float32), array([0.], dtype=float32)]"
            ]
          },
          "metadata": {},
          "execution_count": 6
        }
      ],
      "source": [
        "model.get_weights() # lista de parâmetros"
      ]
    },
    {
      "cell_type": "code",
      "execution_count": null,
      "metadata": {
        "colab": {
          "base_uri": "https://localhost:8080/"
        },
        "id": "c7Z5OEcDOAEy",
        "outputId": "483e020f-bb26-445e-a287-56fc6914ac4b"
      },
      "outputs": [
        {
          "output_type": "stream",
          "name": "stdout",
          "text": [
            "wi =  -1.041523\n",
            "b  =  0.0\n"
          ]
        }
      ],
      "source": [
        "print(\"wi = \", model.get_weights()[0][0][0])\n",
        "print(\"b  = \", model.get_weights()[1][0])"
      ]
    },
    {
      "cell_type": "markdown",
      "metadata": {
        "id": "SaqMbbf5Mos8"
      },
      "source": [
        "## Compilando o Modelo"
      ]
    },
    {
      "cell_type": "code",
      "execution_count": null,
      "metadata": {
        "id": "rUyEy3iMDKy3"
      },
      "outputs": [],
      "source": [
        "# Use stochastic gradient descent (SGD) para otimização e\n",
        "# o erro quadrático médio como função de perda\n",
        "\n",
        "model.compile(optimizer='sgd', loss='mean_squared_error')"
      ]
    },
    {
      "cell_type": "code",
      "execution_count": null,
      "metadata": {
        "colab": {
          "base_uri": "https://localhost:8080/"
        },
        "id": "WKNnF1lxynzI",
        "outputId": "682c0a62-28a8-49bc-c9ba-80380cf2f668"
      },
      "outputs": [
        {
          "output_type": "stream",
          "name": "stderr",
          "text": [
            "/usr/local/lib/python3.10/dist-packages/keras/src/engine/training.py:3103: UserWarning: You are saving your model as an HDF5 file via `model.save()`. This file format is considered legacy. We recommend using instead the native Keras format, e.g. `model.save('my_model.keras')`.\n",
            "  saving_api.save_model(\n"
          ]
        }
      ],
      "source": [
        "model.save('my_first_model_no_training.h5')"
      ]
    },
    {
      "cell_type": "code",
      "execution_count": null,
      "metadata": {
        "colab": {
          "base_uri": "https://localhost:8080/"
        },
        "id": "L98RvpdusUYf",
        "outputId": "2efc69c0-1d17-48d5-b571-f874a60369de"
      },
      "outputs": [
        {
          "output_type": "stream",
          "name": "stdout",
          "text": [
            "1/1 [==============================] - 0s 198ms/step\n",
            "[[-10.41523]]\n"
          ]
        }
      ],
      "source": [
        "print(model.predict([10.0]))"
      ]
    },
    {
      "cell_type": "markdown",
      "metadata": {
        "id": "Up_aZaU-zouh"
      },
      "source": [
        "Inspecionando o Modelo com [Netron](https://netron.app)"
      ]
    },
    {
      "cell_type": "code",
      "execution_count": null,
      "metadata": {
        "colab": {
          "base_uri": "https://localhost:8080/"
        },
        "id": "XTCifI_RKPG9",
        "outputId": "794372f9-7c49-426e-a843-7bab60105bba"
      },
      "outputs": [
        {
          "output_type": "stream",
          "name": "stdout",
          "text": [
            "\u001b[2K     \u001b[90m━━━━━━━━━━━━━━━━━━━━━━━━━━━━━━━━━━━━━━━━\u001b[0m \u001b[32m1.6/1.6 MB\u001b[0m \u001b[31m5.2 MB/s\u001b[0m eta \u001b[36m0:00:00\u001b[0m\n",
            "\u001b[?25h"
          ]
        }
      ],
      "source": [
        "#instalando Netron para executar dentro do colab\n",
        "!pip install -q netron"
      ]
    },
    {
      "cell_type": "code",
      "execution_count": null,
      "metadata": {
        "colab": {
          "base_uri": "https://localhost:8080/",
          "height": 821
        },
        "id": "FgTMgVrXKXPc",
        "outputId": "e5d79c6f-a595-4230-e313-ff7bccd6e8b4"
      },
      "outputs": [
        {
          "output_type": "display_data",
          "data": {
            "text/plain": [
              "<IPython.core.display.Javascript object>"
            ],
            "application/javascript": [
              "(async (port, path, width, height, cache, element) => {\n",
              "    if (!google.colab.kernel.accessAllowed && !cache) {\n",
              "      return;\n",
              "    }\n",
              "    element.appendChild(document.createTextNode(''));\n",
              "    const url = await google.colab.kernel.proxyPort(port, {cache});\n",
              "    const iframe = document.createElement('iframe');\n",
              "    iframe.src = new URL(path, url).toString();\n",
              "    iframe.height = height;\n",
              "    iframe.width = width;\n",
              "    iframe.style.border = 0;\n",
              "    iframe.allow = [\n",
              "        'accelerometer',\n",
              "        'autoplay',\n",
              "        'camera',\n",
              "        'clipboard-read',\n",
              "        'clipboard-write',\n",
              "        'gyroscope',\n",
              "        'magnetometer',\n",
              "        'microphone',\n",
              "        'serial',\n",
              "        'usb',\n",
              "        'xr-spatial-tracking',\n",
              "    ].join('; ');\n",
              "    element.appendChild(iframe);\n",
              "  })(35451, \"/\", \"100%\", \"800\", false, window.element)"
            ]
          },
          "metadata": {}
        }
      ],
      "source": [
        "#visualizar usando Netron\n",
        "import netron\n",
        "import portpicker\n",
        "from google.colab import output\n",
        "\n",
        "port = portpicker.pick_unused_port()\n",
        "\n",
        "# Read the model file and start the netron browser.\n",
        "with output.temporary():\n",
        "  netron.start('my_first_model_no_training.h5', port, browse=False)\n",
        "\n",
        "output.serve_kernel_port_as_iframe(port, height='800')"
      ]
    },
    {
      "cell_type": "markdown",
      "metadata": {
        "id": "RDHKYghlNBLh"
      },
      "source": [
        "## Treinamento"
      ]
    },
    {
      "cell_type": "code",
      "execution_count": null,
      "metadata": {
        "colab": {
          "base_uri": "https://localhost:8080/"
        },
        "id": "UorrgCYTETFn",
        "outputId": "6b0fef69-25a6-410a-9bc4-a3c1229b4316"
      },
      "outputs": [
        {
          "output_type": "stream",
          "name": "stdout",
          "text": [
            "Epoch 1/500\n",
            "1/1 [==============================] - 0s 412ms/step - loss: 39.6716\n",
            "Epoch 2/500\n",
            "1/1 [==============================] - 0s 8ms/step - loss: 31.5653\n",
            "Epoch 3/500\n",
            "1/1 [==============================] - 0s 10ms/step - loss: 25.1803\n",
            "Epoch 4/500\n",
            "1/1 [==============================] - 0s 10ms/step - loss: 20.1499\n",
            "Epoch 5/500\n",
            "1/1 [==============================] - 0s 11ms/step - loss: 16.1852\n",
            "Epoch 6/500\n",
            "1/1 [==============================] - 0s 8ms/step - loss: 13.0592\n",
            "Epoch 7/500\n",
            "1/1 [==============================] - 0s 9ms/step - loss: 10.5931\n",
            "Epoch 8/500\n",
            "1/1 [==============================] - 0s 12ms/step - loss: 8.6463\n",
            "Epoch 9/500\n",
            "1/1 [==============================] - 0s 8ms/step - loss: 7.1083\n",
            "Epoch 10/500\n",
            "1/1 [==============================] - 0s 9ms/step - loss: 5.8919\n",
            "Epoch 11/500\n",
            "1/1 [==============================] - 0s 9ms/step - loss: 4.9288\n",
            "Epoch 12/500\n",
            "1/1 [==============================] - 0s 9ms/step - loss: 4.1651\n",
            "Epoch 13/500\n",
            "1/1 [==============================] - 0s 8ms/step - loss: 3.5583\n",
            "Epoch 14/500\n",
            "1/1 [==============================] - 0s 9ms/step - loss: 3.0751\n",
            "Epoch 15/500\n",
            "1/1 [==============================] - 0s 9ms/step - loss: 2.6893\n",
            "Epoch 16/500\n",
            "1/1 [==============================] - 0s 9ms/step - loss: 2.3803\n",
            "Epoch 17/500\n",
            "1/1 [==============================] - 0s 10ms/step - loss: 2.1317\n",
            "Epoch 18/500\n",
            "1/1 [==============================] - 0s 10ms/step - loss: 1.9308\n",
            "Epoch 19/500\n",
            "1/1 [==============================] - 0s 9ms/step - loss: 1.7675\n",
            "Epoch 20/500\n",
            "1/1 [==============================] - 0s 10ms/step - loss: 1.6340\n",
            "Epoch 21/500\n",
            "1/1 [==============================] - 0s 11ms/step - loss: 1.5239\n",
            "Epoch 22/500\n",
            "1/1 [==============================] - 0s 12ms/step - loss: 1.4324\n",
            "Epoch 23/500\n",
            "1/1 [==============================] - 0s 11ms/step - loss: 1.3556\n",
            "Epoch 24/500\n",
            "1/1 [==============================] - 0s 8ms/step - loss: 1.2905\n",
            "Epoch 25/500\n",
            "1/1 [==============================] - 0s 8ms/step - loss: 1.2347\n",
            "Epoch 26/500\n",
            "1/1 [==============================] - 0s 10ms/step - loss: 1.1863\n",
            "Epoch 27/500\n",
            "1/1 [==============================] - 0s 8ms/step - loss: 1.1437\n",
            "Epoch 28/500\n",
            "1/1 [==============================] - 0s 8ms/step - loss: 1.1060\n",
            "Epoch 29/500\n",
            "1/1 [==============================] - 0s 8ms/step - loss: 1.0720\n",
            "Epoch 30/500\n",
            "1/1 [==============================] - 0s 8ms/step - loss: 1.0412\n",
            "Epoch 31/500\n",
            "1/1 [==============================] - 0s 9ms/step - loss: 1.0128\n",
            "Epoch 32/500\n",
            "1/1 [==============================] - 0s 8ms/step - loss: 0.9866\n",
            "Epoch 33/500\n",
            "1/1 [==============================] - 0s 8ms/step - loss: 0.9620\n",
            "Epoch 34/500\n",
            "1/1 [==============================] - 0s 8ms/step - loss: 0.9388\n",
            "Epoch 35/500\n",
            "1/1 [==============================] - 0s 8ms/step - loss: 0.9169\n",
            "Epoch 36/500\n",
            "1/1 [==============================] - 0s 8ms/step - loss: 0.8960\n",
            "Epoch 37/500\n",
            "1/1 [==============================] - 0s 9ms/step - loss: 0.8759\n",
            "Epoch 38/500\n",
            "1/1 [==============================] - 0s 8ms/step - loss: 0.8566\n",
            "Epoch 39/500\n",
            "1/1 [==============================] - 0s 8ms/step - loss: 0.8380\n",
            "Epoch 40/500\n",
            "1/1 [==============================] - 0s 9ms/step - loss: 0.8200\n",
            "Epoch 41/500\n",
            "1/1 [==============================] - 0s 10ms/step - loss: 0.8025\n",
            "Epoch 42/500\n",
            "1/1 [==============================] - 0s 10ms/step - loss: 0.7855\n",
            "Epoch 43/500\n",
            "1/1 [==============================] - 0s 8ms/step - loss: 0.7690\n",
            "Epoch 44/500\n",
            "1/1 [==============================] - 0s 7ms/step - loss: 0.7529\n",
            "Epoch 45/500\n",
            "1/1 [==============================] - 0s 13ms/step - loss: 0.7372\n",
            "Epoch 46/500\n",
            "1/1 [==============================] - 0s 9ms/step - loss: 0.7219\n",
            "Epoch 47/500\n",
            "1/1 [==============================] - 0s 16ms/step - loss: 0.7069\n",
            "Epoch 48/500\n",
            "1/1 [==============================] - 0s 9ms/step - loss: 0.6923\n",
            "Epoch 49/500\n",
            "1/1 [==============================] - 0s 9ms/step - loss: 0.6779\n",
            "Epoch 50/500\n",
            "1/1 [==============================] - 0s 9ms/step - loss: 0.6639\n",
            "Epoch 51/500\n",
            "1/1 [==============================] - 0s 10ms/step - loss: 0.6502\n",
            "Epoch 52/500\n",
            "1/1 [==============================] - 0s 8ms/step - loss: 0.6368\n",
            "Epoch 53/500\n",
            "1/1 [==============================] - 0s 10ms/step - loss: 0.6237\n",
            "Epoch 54/500\n",
            "1/1 [==============================] - 0s 9ms/step - loss: 0.6109\n",
            "Epoch 55/500\n",
            "1/1 [==============================] - 0s 11ms/step - loss: 0.5983\n",
            "Epoch 56/500\n",
            "1/1 [==============================] - 0s 9ms/step - loss: 0.5860\n",
            "Epoch 57/500\n",
            "1/1 [==============================] - 0s 9ms/step - loss: 0.5740\n",
            "Epoch 58/500\n",
            "1/1 [==============================] - 0s 9ms/step - loss: 0.5622\n",
            "Epoch 59/500\n",
            "1/1 [==============================] - 0s 12ms/step - loss: 0.5506\n",
            "Epoch 60/500\n",
            "1/1 [==============================] - 0s 10ms/step - loss: 0.5393\n",
            "Epoch 61/500\n",
            "1/1 [==============================] - 0s 8ms/step - loss: 0.5282\n",
            "Epoch 62/500\n",
            "1/1 [==============================] - 0s 8ms/step - loss: 0.5174\n",
            "Epoch 63/500\n",
            "1/1 [==============================] - 0s 8ms/step - loss: 0.5067\n",
            "Epoch 64/500\n",
            "1/1 [==============================] - 0s 8ms/step - loss: 0.4963\n",
            "Epoch 65/500\n",
            "1/1 [==============================] - 0s 9ms/step - loss: 0.4861\n",
            "Epoch 66/500\n",
            "1/1 [==============================] - 0s 8ms/step - loss: 0.4761\n",
            "Epoch 67/500\n",
            "1/1 [==============================] - 0s 8ms/step - loss: 0.4663\n",
            "Epoch 68/500\n",
            "1/1 [==============================] - 0s 8ms/step - loss: 0.4568\n",
            "Epoch 69/500\n",
            "1/1 [==============================] - 0s 11ms/step - loss: 0.4474\n",
            "Epoch 70/500\n",
            "1/1 [==============================] - 0s 10ms/step - loss: 0.4382\n",
            "Epoch 71/500\n",
            "1/1 [==============================] - 0s 12ms/step - loss: 0.4292\n",
            "Epoch 72/500\n",
            "1/1 [==============================] - 0s 10ms/step - loss: 0.4204\n",
            "Epoch 73/500\n",
            "1/1 [==============================] - 0s 12ms/step - loss: 0.4117\n",
            "Epoch 74/500\n",
            "1/1 [==============================] - 0s 14ms/step - loss: 0.4033\n",
            "Epoch 75/500\n",
            "1/1 [==============================] - 0s 9ms/step - loss: 0.3950\n",
            "Epoch 76/500\n",
            "1/1 [==============================] - 0s 9ms/step - loss: 0.3869\n",
            "Epoch 77/500\n",
            "1/1 [==============================] - 0s 9ms/step - loss: 0.3789\n",
            "Epoch 78/500\n",
            "1/1 [==============================] - 0s 9ms/step - loss: 0.3712\n",
            "Epoch 79/500\n",
            "1/1 [==============================] - 0s 9ms/step - loss: 0.3635\n",
            "Epoch 80/500\n",
            "1/1 [==============================] - 0s 24ms/step - loss: 0.3561\n",
            "Epoch 81/500\n",
            "1/1 [==============================] - 0s 19ms/step - loss: 0.3488\n",
            "Epoch 82/500\n",
            "1/1 [==============================] - 0s 18ms/step - loss: 0.3416\n",
            "Epoch 83/500\n",
            "1/1 [==============================] - 0s 17ms/step - loss: 0.3346\n",
            "Epoch 84/500\n",
            "1/1 [==============================] - 0s 12ms/step - loss: 0.3277\n",
            "Epoch 85/500\n",
            "1/1 [==============================] - 0s 15ms/step - loss: 0.3210\n",
            "Epoch 86/500\n",
            "1/1 [==============================] - 0s 13ms/step - loss: 0.3144\n",
            "Epoch 87/500\n",
            "1/1 [==============================] - 0s 11ms/step - loss: 0.3079\n",
            "Epoch 88/500\n",
            "1/1 [==============================] - 0s 9ms/step - loss: 0.3016\n",
            "Epoch 89/500\n",
            "1/1 [==============================] - 0s 9ms/step - loss: 0.2954\n",
            "Epoch 90/500\n",
            "1/1 [==============================] - 0s 11ms/step - loss: 0.2893\n",
            "Epoch 91/500\n",
            "1/1 [==============================] - 0s 10ms/step - loss: 0.2834\n",
            "Epoch 92/500\n",
            "1/1 [==============================] - 0s 10ms/step - loss: 0.2776\n",
            "Epoch 93/500\n",
            "1/1 [==============================] - 0s 9ms/step - loss: 0.2719\n",
            "Epoch 94/500\n",
            "1/1 [==============================] - 0s 9ms/step - loss: 0.2663\n",
            "Epoch 95/500\n",
            "1/1 [==============================] - 0s 9ms/step - loss: 0.2608\n",
            "Epoch 96/500\n",
            "1/1 [==============================] - 0s 10ms/step - loss: 0.2555\n",
            "Epoch 97/500\n",
            "1/1 [==============================] - 0s 9ms/step - loss: 0.2502\n",
            "Epoch 98/500\n",
            "1/1 [==============================] - 0s 9ms/step - loss: 0.2451\n",
            "Epoch 99/500\n",
            "1/1 [==============================] - 0s 9ms/step - loss: 0.2400\n",
            "Epoch 100/500\n",
            "1/1 [==============================] - 0s 9ms/step - loss: 0.2351\n",
            "Epoch 101/500\n",
            "1/1 [==============================] - 0s 9ms/step - loss: 0.2303\n",
            "Epoch 102/500\n",
            "1/1 [==============================] - 0s 10ms/step - loss: 0.2255\n",
            "Epoch 103/500\n",
            "1/1 [==============================] - 0s 10ms/step - loss: 0.2209\n",
            "Epoch 104/500\n",
            "1/1 [==============================] - 0s 10ms/step - loss: 0.2164\n",
            "Epoch 105/500\n",
            "1/1 [==============================] - 0s 10ms/step - loss: 0.2119\n",
            "Epoch 106/500\n",
            "1/1 [==============================] - 0s 10ms/step - loss: 0.2076\n",
            "Epoch 107/500\n",
            "1/1 [==============================] - 0s 9ms/step - loss: 0.2033\n",
            "Epoch 108/500\n",
            "1/1 [==============================] - 0s 9ms/step - loss: 0.1991\n",
            "Epoch 109/500\n",
            "1/1 [==============================] - 0s 17ms/step - loss: 0.1950\n",
            "Epoch 110/500\n",
            "1/1 [==============================] - 0s 10ms/step - loss: 0.1910\n",
            "Epoch 111/500\n",
            "1/1 [==============================] - 0s 9ms/step - loss: 0.1871\n",
            "Epoch 112/500\n",
            "1/1 [==============================] - 0s 9ms/step - loss: 0.1833\n",
            "Epoch 113/500\n",
            "1/1 [==============================] - 0s 9ms/step - loss: 0.1795\n",
            "Epoch 114/500\n",
            "1/1 [==============================] - 0s 9ms/step - loss: 0.1758\n",
            "Epoch 115/500\n",
            "1/1 [==============================] - 0s 9ms/step - loss: 0.1722\n",
            "Epoch 116/500\n",
            "1/1 [==============================] - 0s 9ms/step - loss: 0.1687\n",
            "Epoch 117/500\n",
            "1/1 [==============================] - 0s 9ms/step - loss: 0.1652\n",
            "Epoch 118/500\n",
            "1/1 [==============================] - 0s 9ms/step - loss: 0.1618\n",
            "Epoch 119/500\n",
            "1/1 [==============================] - 0s 8ms/step - loss: 0.1585\n",
            "Epoch 120/500\n",
            "1/1 [==============================] - 0s 9ms/step - loss: 0.1552\n",
            "Epoch 121/500\n",
            "1/1 [==============================] - 0s 9ms/step - loss: 0.1520\n",
            "Epoch 122/500\n",
            "1/1 [==============================] - 0s 11ms/step - loss: 0.1489\n",
            "Epoch 123/500\n",
            "1/1 [==============================] - 0s 10ms/step - loss: 0.1459\n",
            "Epoch 124/500\n",
            "1/1 [==============================] - 0s 10ms/step - loss: 0.1429\n",
            "Epoch 125/500\n",
            "1/1 [==============================] - 0s 9ms/step - loss: 0.1399\n",
            "Epoch 126/500\n",
            "1/1 [==============================] - 0s 10ms/step - loss: 0.1371\n",
            "Epoch 127/500\n",
            "1/1 [==============================] - 0s 10ms/step - loss: 0.1342\n",
            "Epoch 128/500\n",
            "1/1 [==============================] - 0s 10ms/step - loss: 0.1315\n",
            "Epoch 129/500\n",
            "1/1 [==============================] - 0s 12ms/step - loss: 0.1288\n",
            "Epoch 130/500\n",
            "1/1 [==============================] - 0s 14ms/step - loss: 0.1261\n",
            "Epoch 131/500\n",
            "1/1 [==============================] - 0s 15ms/step - loss: 0.1235\n",
            "Epoch 132/500\n",
            "1/1 [==============================] - 0s 17ms/step - loss: 0.1210\n",
            "Epoch 133/500\n",
            "1/1 [==============================] - 0s 17ms/step - loss: 0.1185\n",
            "Epoch 134/500\n",
            "1/1 [==============================] - 0s 10ms/step - loss: 0.1161\n",
            "Epoch 135/500\n",
            "1/1 [==============================] - 0s 9ms/step - loss: 0.1137\n",
            "Epoch 136/500\n",
            "1/1 [==============================] - 0s 9ms/step - loss: 0.1114\n",
            "Epoch 137/500\n",
            "1/1 [==============================] - 0s 10ms/step - loss: 0.1091\n",
            "Epoch 138/500\n",
            "1/1 [==============================] - 0s 9ms/step - loss: 0.1068\n",
            "Epoch 139/500\n",
            "1/1 [==============================] - 0s 9ms/step - loss: 0.1046\n",
            "Epoch 140/500\n",
            "1/1 [==============================] - 0s 9ms/step - loss: 0.1025\n",
            "Epoch 141/500\n",
            "1/1 [==============================] - 0s 11ms/step - loss: 0.1004\n",
            "Epoch 142/500\n",
            "1/1 [==============================] - 0s 14ms/step - loss: 0.0983\n",
            "Epoch 143/500\n",
            "1/1 [==============================] - 0s 13ms/step - loss: 0.0963\n",
            "Epoch 144/500\n",
            "1/1 [==============================] - 0s 18ms/step - loss: 0.0943\n",
            "Epoch 145/500\n",
            "1/1 [==============================] - 0s 12ms/step - loss: 0.0924\n",
            "Epoch 146/500\n",
            "1/1 [==============================] - 0s 14ms/step - loss: 0.0905\n",
            "Epoch 147/500\n",
            "1/1 [==============================] - 0s 10ms/step - loss: 0.0886\n",
            "Epoch 148/500\n",
            "1/1 [==============================] - 0s 11ms/step - loss: 0.0868\n",
            "Epoch 149/500\n",
            "1/1 [==============================] - 0s 13ms/step - loss: 0.0850\n",
            "Epoch 150/500\n",
            "1/1 [==============================] - 0s 18ms/step - loss: 0.0833\n",
            "Epoch 151/500\n",
            "1/1 [==============================] - 0s 15ms/step - loss: 0.0816\n",
            "Epoch 152/500\n",
            "1/1 [==============================] - 0s 17ms/step - loss: 0.0799\n",
            "Epoch 153/500\n",
            "1/1 [==============================] - 0s 18ms/step - loss: 0.0783\n",
            "Epoch 154/500\n",
            "1/1 [==============================] - 0s 18ms/step - loss: 0.0767\n",
            "Epoch 155/500\n",
            "1/1 [==============================] - 0s 15ms/step - loss: 0.0751\n",
            "Epoch 156/500\n",
            "1/1 [==============================] - 0s 13ms/step - loss: 0.0735\n",
            "Epoch 157/500\n",
            "1/1 [==============================] - 0s 15ms/step - loss: 0.0720\n",
            "Epoch 158/500\n",
            "1/1 [==============================] - 0s 16ms/step - loss: 0.0705\n",
            "Epoch 159/500\n",
            "1/1 [==============================] - 0s 13ms/step - loss: 0.0691\n",
            "Epoch 160/500\n",
            "1/1 [==============================] - 0s 12ms/step - loss: 0.0677\n",
            "Epoch 161/500\n",
            "1/1 [==============================] - 0s 11ms/step - loss: 0.0663\n",
            "Epoch 162/500\n",
            "1/1 [==============================] - 0s 15ms/step - loss: 0.0649\n",
            "Epoch 163/500\n",
            "1/1 [==============================] - 0s 9ms/step - loss: 0.0636\n",
            "Epoch 164/500\n",
            "1/1 [==============================] - 0s 8ms/step - loss: 0.0623\n",
            "Epoch 165/500\n",
            "1/1 [==============================] - 0s 9ms/step - loss: 0.0610\n",
            "Epoch 166/500\n",
            "1/1 [==============================] - 0s 15ms/step - loss: 0.0598\n",
            "Epoch 167/500\n",
            "1/1 [==============================] - 0s 14ms/step - loss: 0.0585\n",
            "Epoch 168/500\n",
            "1/1 [==============================] - 0s 11ms/step - loss: 0.0573\n",
            "Epoch 169/500\n",
            "1/1 [==============================] - 0s 11ms/step - loss: 0.0561\n",
            "Epoch 170/500\n",
            "1/1 [==============================] - 0s 14ms/step - loss: 0.0550\n",
            "Epoch 171/500\n",
            "1/1 [==============================] - 0s 11ms/step - loss: 0.0539\n",
            "Epoch 172/500\n",
            "1/1 [==============================] - 0s 8ms/step - loss: 0.0528\n",
            "Epoch 173/500\n",
            "1/1 [==============================] - 0s 12ms/step - loss: 0.0517\n",
            "Epoch 174/500\n",
            "1/1 [==============================] - 0s 11ms/step - loss: 0.0506\n",
            "Epoch 175/500\n",
            "1/1 [==============================] - 0s 11ms/step - loss: 0.0496\n",
            "Epoch 176/500\n",
            "1/1 [==============================] - 0s 11ms/step - loss: 0.0486\n",
            "Epoch 177/500\n",
            "1/1 [==============================] - 0s 12ms/step - loss: 0.0476\n",
            "Epoch 178/500\n",
            "1/1 [==============================] - 0s 7ms/step - loss: 0.0466\n",
            "Epoch 179/500\n",
            "1/1 [==============================] - 0s 7ms/step - loss: 0.0456\n",
            "Epoch 180/500\n",
            "1/1 [==============================] - 0s 7ms/step - loss: 0.0447\n",
            "Epoch 181/500\n",
            "1/1 [==============================] - 0s 7ms/step - loss: 0.0438\n",
            "Epoch 182/500\n",
            "1/1 [==============================] - 0s 8ms/step - loss: 0.0429\n",
            "Epoch 183/500\n",
            "1/1 [==============================] - 0s 8ms/step - loss: 0.0420\n",
            "Epoch 184/500\n",
            "1/1 [==============================] - 0s 11ms/step - loss: 0.0411\n",
            "Epoch 185/500\n",
            "1/1 [==============================] - 0s 9ms/step - loss: 0.0403\n",
            "Epoch 186/500\n",
            "1/1 [==============================] - 0s 9ms/step - loss: 0.0395\n",
            "Epoch 187/500\n",
            "1/1 [==============================] - 0s 13ms/step - loss: 0.0386\n",
            "Epoch 188/500\n",
            "1/1 [==============================] - 0s 8ms/step - loss: 0.0378\n",
            "Epoch 189/500\n",
            "1/1 [==============================] - 0s 8ms/step - loss: 0.0371\n",
            "Epoch 190/500\n",
            "1/1 [==============================] - 0s 9ms/step - loss: 0.0363\n",
            "Epoch 191/500\n",
            "1/1 [==============================] - 0s 15ms/step - loss: 0.0356\n",
            "Epoch 192/500\n",
            "1/1 [==============================] - 0s 16ms/step - loss: 0.0348\n",
            "Epoch 193/500\n",
            "1/1 [==============================] - 0s 19ms/step - loss: 0.0341\n",
            "Epoch 194/500\n",
            "1/1 [==============================] - 0s 15ms/step - loss: 0.0334\n",
            "Epoch 195/500\n",
            "1/1 [==============================] - 0s 13ms/step - loss: 0.0327\n",
            "Epoch 196/500\n",
            "1/1 [==============================] - 0s 14ms/step - loss: 0.0321\n",
            "Epoch 197/500\n",
            "1/1 [==============================] - 0s 9ms/step - loss: 0.0314\n",
            "Epoch 198/500\n",
            "1/1 [==============================] - 0s 13ms/step - loss: 0.0308\n",
            "Epoch 199/500\n",
            "1/1 [==============================] - 0s 13ms/step - loss: 0.0301\n",
            "Epoch 200/500\n",
            "1/1 [==============================] - 0s 10ms/step - loss: 0.0295\n",
            "Epoch 201/500\n",
            "1/1 [==============================] - 0s 12ms/step - loss: 0.0289\n",
            "Epoch 202/500\n",
            "1/1 [==============================] - 0s 12ms/step - loss: 0.0283\n",
            "Epoch 203/500\n",
            "1/1 [==============================] - 0s 13ms/step - loss: 0.0277\n",
            "Epoch 204/500\n",
            "1/1 [==============================] - 0s 12ms/step - loss: 0.0272\n",
            "Epoch 205/500\n",
            "1/1 [==============================] - 0s 11ms/step - loss: 0.0266\n",
            "Epoch 206/500\n",
            "1/1 [==============================] - 0s 10ms/step - loss: 0.0261\n",
            "Epoch 207/500\n",
            "1/1 [==============================] - 0s 11ms/step - loss: 0.0255\n",
            "Epoch 208/500\n",
            "1/1 [==============================] - 0s 11ms/step - loss: 0.0250\n",
            "Epoch 209/500\n",
            "1/1 [==============================] - 0s 11ms/step - loss: 0.0245\n",
            "Epoch 210/500\n",
            "1/1 [==============================] - 0s 10ms/step - loss: 0.0240\n",
            "Epoch 211/500\n",
            "1/1 [==============================] - 0s 9ms/step - loss: 0.0235\n",
            "Epoch 212/500\n",
            "1/1 [==============================] - 0s 8ms/step - loss: 0.0230\n",
            "Epoch 213/500\n",
            "1/1 [==============================] - 0s 8ms/step - loss: 0.0225\n",
            "Epoch 214/500\n",
            "1/1 [==============================] - 0s 10ms/step - loss: 0.0221\n",
            "Epoch 215/500\n",
            "1/1 [==============================] - 0s 8ms/step - loss: 0.0216\n",
            "Epoch 216/500\n",
            "1/1 [==============================] - 0s 9ms/step - loss: 0.0212\n",
            "Epoch 217/500\n",
            "1/1 [==============================] - 0s 10ms/step - loss: 0.0207\n",
            "Epoch 218/500\n",
            "1/1 [==============================] - 0s 9ms/step - loss: 0.0203\n",
            "Epoch 219/500\n",
            "1/1 [==============================] - 0s 11ms/step - loss: 0.0199\n",
            "Epoch 220/500\n",
            "1/1 [==============================] - 0s 11ms/step - loss: 0.0195\n",
            "Epoch 221/500\n",
            "1/1 [==============================] - 0s 10ms/step - loss: 0.0191\n",
            "Epoch 222/500\n",
            "1/1 [==============================] - 0s 11ms/step - loss: 0.0187\n",
            "Epoch 223/500\n",
            "1/1 [==============================] - 0s 11ms/step - loss: 0.0183\n",
            "Epoch 224/500\n",
            "1/1 [==============================] - 0s 10ms/step - loss: 0.0179\n",
            "Epoch 225/500\n",
            "1/1 [==============================] - 0s 11ms/step - loss: 0.0176\n",
            "Epoch 226/500\n",
            "1/1 [==============================] - 0s 11ms/step - loss: 0.0172\n",
            "Epoch 227/500\n",
            "1/1 [==============================] - 0s 9ms/step - loss: 0.0168\n",
            "Epoch 228/500\n",
            "1/1 [==============================] - 0s 10ms/step - loss: 0.0165\n",
            "Epoch 229/500\n",
            "1/1 [==============================] - 0s 11ms/step - loss: 0.0162\n",
            "Epoch 230/500\n",
            "1/1 [==============================] - 0s 9ms/step - loss: 0.0158\n",
            "Epoch 231/500\n",
            "1/1 [==============================] - 0s 14ms/step - loss: 0.0155\n",
            "Epoch 232/500\n",
            "1/1 [==============================] - 0s 20ms/step - loss: 0.0152\n",
            "Epoch 233/500\n",
            "1/1 [==============================] - 0s 23ms/step - loss: 0.0149\n",
            "Epoch 234/500\n",
            "1/1 [==============================] - 0s 21ms/step - loss: 0.0146\n",
            "Epoch 235/500\n",
            "1/1 [==============================] - 0s 18ms/step - loss: 0.0143\n",
            "Epoch 236/500\n",
            "1/1 [==============================] - 0s 14ms/step - loss: 0.0140\n",
            "Epoch 237/500\n",
            "1/1 [==============================] - 0s 13ms/step - loss: 0.0137\n",
            "Epoch 238/500\n",
            "1/1 [==============================] - 0s 20ms/step - loss: 0.0134\n",
            "Epoch 239/500\n",
            "1/1 [==============================] - 0s 12ms/step - loss: 0.0131\n",
            "Epoch 240/500\n",
            "1/1 [==============================] - 0s 19ms/step - loss: 0.0129\n",
            "Epoch 241/500\n",
            "1/1 [==============================] - 0s 11ms/step - loss: 0.0126\n",
            "Epoch 242/500\n",
            "1/1 [==============================] - 0s 12ms/step - loss: 0.0123\n",
            "Epoch 243/500\n",
            "1/1 [==============================] - 0s 14ms/step - loss: 0.0121\n",
            "Epoch 244/500\n",
            "1/1 [==============================] - 0s 16ms/step - loss: 0.0118\n",
            "Epoch 245/500\n",
            "1/1 [==============================] - 0s 21ms/step - loss: 0.0116\n",
            "Epoch 246/500\n",
            "1/1 [==============================] - 0s 21ms/step - loss: 0.0114\n",
            "Epoch 247/500\n",
            "1/1 [==============================] - 0s 17ms/step - loss: 0.0111\n",
            "Epoch 248/500\n",
            "1/1 [==============================] - 0s 15ms/step - loss: 0.0109\n",
            "Epoch 249/500\n",
            "1/1 [==============================] - 0s 10ms/step - loss: 0.0107\n",
            "Epoch 250/500\n",
            "1/1 [==============================] - 0s 10ms/step - loss: 0.0105\n",
            "Epoch 251/500\n",
            "1/1 [==============================] - 0s 18ms/step - loss: 0.0102\n",
            "Epoch 252/500\n",
            "1/1 [==============================] - 0s 19ms/step - loss: 0.0100\n",
            "Epoch 253/500\n",
            "1/1 [==============================] - 0s 14ms/step - loss: 0.0098\n",
            "Epoch 254/500\n",
            "1/1 [==============================] - 0s 31ms/step - loss: 0.0096\n",
            "Epoch 255/500\n",
            "1/1 [==============================] - 0s 9ms/step - loss: 0.0094\n",
            "Epoch 256/500\n",
            "1/1 [==============================] - 0s 9ms/step - loss: 0.0092\n",
            "Epoch 257/500\n",
            "1/1 [==============================] - 0s 9ms/step - loss: 0.0090\n",
            "Epoch 258/500\n",
            "1/1 [==============================] - 0s 9ms/step - loss: 0.0089\n",
            "Epoch 259/500\n",
            "1/1 [==============================] - 0s 9ms/step - loss: 0.0087\n",
            "Epoch 260/500\n",
            "1/1 [==============================] - 0s 9ms/step - loss: 0.0085\n",
            "Epoch 261/500\n",
            "1/1 [==============================] - 0s 9ms/step - loss: 0.0083\n",
            "Epoch 262/500\n",
            "1/1 [==============================] - 0s 10ms/step - loss: 0.0081\n",
            "Epoch 263/500\n",
            "1/1 [==============================] - 0s 22ms/step - loss: 0.0080\n",
            "Epoch 264/500\n",
            "1/1 [==============================] - 0s 14ms/step - loss: 0.0078\n",
            "Epoch 265/500\n",
            "1/1 [==============================] - 0s 18ms/step - loss: 0.0077\n",
            "Epoch 266/500\n",
            "1/1 [==============================] - 0s 17ms/step - loss: 0.0075\n",
            "Epoch 267/500\n",
            "1/1 [==============================] - 0s 17ms/step - loss: 0.0073\n",
            "Epoch 268/500\n",
            "1/1 [==============================] - 0s 18ms/step - loss: 0.0072\n",
            "Epoch 269/500\n",
            "1/1 [==============================] - 0s 15ms/step - loss: 0.0070\n",
            "Epoch 270/500\n",
            "1/1 [==============================] - 0s 9ms/step - loss: 0.0069\n",
            "Epoch 271/500\n",
            "1/1 [==============================] - 0s 9ms/step - loss: 0.0068\n",
            "Epoch 272/500\n",
            "1/1 [==============================] - 0s 11ms/step - loss: 0.0066\n",
            "Epoch 273/500\n",
            "1/1 [==============================] - 0s 17ms/step - loss: 0.0065\n",
            "Epoch 274/500\n",
            "1/1 [==============================] - 0s 9ms/step - loss: 0.0064\n",
            "Epoch 275/500\n",
            "1/1 [==============================] - 0s 10ms/step - loss: 0.0062\n",
            "Epoch 276/500\n",
            "1/1 [==============================] - 0s 7ms/step - loss: 0.0061\n",
            "Epoch 277/500\n",
            "1/1 [==============================] - 0s 12ms/step - loss: 0.0060\n",
            "Epoch 278/500\n",
            "1/1 [==============================] - 0s 11ms/step - loss: 0.0058\n",
            "Epoch 279/500\n",
            "1/1 [==============================] - 0s 9ms/step - loss: 0.0057\n",
            "Epoch 280/500\n",
            "1/1 [==============================] - 0s 10ms/step - loss: 0.0056\n",
            "Epoch 281/500\n",
            "1/1 [==============================] - 0s 9ms/step - loss: 0.0055\n",
            "Epoch 282/500\n",
            "1/1 [==============================] - 0s 13ms/step - loss: 0.0054\n",
            "Epoch 283/500\n",
            "1/1 [==============================] - 0s 11ms/step - loss: 0.0053\n",
            "Epoch 284/500\n",
            "1/1 [==============================] - 0s 8ms/step - loss: 0.0052\n",
            "Epoch 285/500\n",
            "1/1 [==============================] - 0s 9ms/step - loss: 0.0051\n",
            "Epoch 286/500\n",
            "1/1 [==============================] - 0s 10ms/step - loss: 0.0050\n",
            "Epoch 287/500\n",
            "1/1 [==============================] - 0s 13ms/step - loss: 0.0048\n",
            "Epoch 288/500\n",
            "1/1 [==============================] - 0s 11ms/step - loss: 0.0048\n",
            "Epoch 289/500\n",
            "1/1 [==============================] - 0s 10ms/step - loss: 0.0047\n",
            "Epoch 290/500\n",
            "1/1 [==============================] - 0s 9ms/step - loss: 0.0046\n",
            "Epoch 291/500\n",
            "1/1 [==============================] - 0s 8ms/step - loss: 0.0045\n",
            "Epoch 292/500\n",
            "1/1 [==============================] - 0s 9ms/step - loss: 0.0044\n",
            "Epoch 293/500\n",
            "1/1 [==============================] - 0s 8ms/step - loss: 0.0043\n",
            "Epoch 294/500\n",
            "1/1 [==============================] - 0s 9ms/step - loss: 0.0042\n",
            "Epoch 295/500\n",
            "1/1 [==============================] - 0s 7ms/step - loss: 0.0041\n",
            "Epoch 296/500\n",
            "1/1 [==============================] - 0s 8ms/step - loss: 0.0040\n",
            "Epoch 297/500\n",
            "1/1 [==============================] - 0s 7ms/step - loss: 0.0039\n",
            "Epoch 298/500\n",
            "1/1 [==============================] - 0s 7ms/step - loss: 0.0039\n",
            "Epoch 299/500\n",
            "1/1 [==============================] - 0s 7ms/step - loss: 0.0038\n",
            "Epoch 300/500\n",
            "1/1 [==============================] - 0s 7ms/step - loss: 0.0037\n",
            "Epoch 301/500\n",
            "1/1 [==============================] - 0s 7ms/step - loss: 0.0036\n",
            "Epoch 302/500\n",
            "1/1 [==============================] - 0s 7ms/step - loss: 0.0036\n",
            "Epoch 303/500\n",
            "1/1 [==============================] - 0s 9ms/step - loss: 0.0035\n",
            "Epoch 304/500\n",
            "1/1 [==============================] - 0s 10ms/step - loss: 0.0034\n",
            "Epoch 305/500\n",
            "1/1 [==============================] - 0s 9ms/step - loss: 0.0033\n",
            "Epoch 306/500\n",
            "1/1 [==============================] - 0s 8ms/step - loss: 0.0033\n",
            "Epoch 307/500\n",
            "1/1 [==============================] - 0s 9ms/step - loss: 0.0032\n",
            "Epoch 308/500\n",
            "1/1 [==============================] - 0s 8ms/step - loss: 0.0031\n",
            "Epoch 309/500\n",
            "1/1 [==============================] - 0s 8ms/step - loss: 0.0031\n",
            "Epoch 310/500\n",
            "1/1 [==============================] - 0s 8ms/step - loss: 0.0030\n",
            "Epoch 311/500\n",
            "1/1 [==============================] - 0s 8ms/step - loss: 0.0029\n",
            "Epoch 312/500\n",
            "1/1 [==============================] - 0s 7ms/step - loss: 0.0029\n",
            "Epoch 313/500\n",
            "1/1 [==============================] - 0s 8ms/step - loss: 0.0028\n",
            "Epoch 314/500\n",
            "1/1 [==============================] - 0s 8ms/step - loss: 0.0028\n",
            "Epoch 315/500\n",
            "1/1 [==============================] - 0s 8ms/step - loss: 0.0027\n",
            "Epoch 316/500\n",
            "1/1 [==============================] - 0s 7ms/step - loss: 0.0027\n",
            "Epoch 317/500\n",
            "1/1 [==============================] - 0s 16ms/step - loss: 0.0026\n",
            "Epoch 318/500\n",
            "1/1 [==============================] - 0s 9ms/step - loss: 0.0025\n",
            "Epoch 319/500\n",
            "1/1 [==============================] - 0s 9ms/step - loss: 0.0025\n",
            "Epoch 320/500\n",
            "1/1 [==============================] - 0s 9ms/step - loss: 0.0024\n",
            "Epoch 321/500\n",
            "1/1 [==============================] - 0s 13ms/step - loss: 0.0024\n",
            "Epoch 322/500\n",
            "1/1 [==============================] - 0s 10ms/step - loss: 0.0023\n",
            "Epoch 323/500\n",
            "1/1 [==============================] - 0s 9ms/step - loss: 0.0023\n",
            "Epoch 324/500\n",
            "1/1 [==============================] - 0s 13ms/step - loss: 0.0023\n",
            "Epoch 325/500\n",
            "1/1 [==============================] - 0s 9ms/step - loss: 0.0022\n",
            "Epoch 326/500\n",
            "1/1 [==============================] - 0s 10ms/step - loss: 0.0022\n",
            "Epoch 327/500\n",
            "1/1 [==============================] - 0s 11ms/step - loss: 0.0021\n",
            "Epoch 328/500\n",
            "1/1 [==============================] - 0s 10ms/step - loss: 0.0021\n",
            "Epoch 329/500\n",
            "1/1 [==============================] - 0s 7ms/step - loss: 0.0020\n",
            "Epoch 330/500\n",
            "1/1 [==============================] - 0s 11ms/step - loss: 0.0020\n",
            "Epoch 331/500\n",
            "1/1 [==============================] - 0s 7ms/step - loss: 0.0019\n",
            "Epoch 332/500\n",
            "1/1 [==============================] - 0s 11ms/step - loss: 0.0019\n",
            "Epoch 333/500\n",
            "1/1 [==============================] - 0s 9ms/step - loss: 0.0019\n",
            "Epoch 334/500\n",
            "1/1 [==============================] - 0s 9ms/step - loss: 0.0018\n",
            "Epoch 335/500\n",
            "1/1 [==============================] - 0s 9ms/step - loss: 0.0018\n",
            "Epoch 336/500\n",
            "1/1 [==============================] - 0s 10ms/step - loss: 0.0018\n",
            "Epoch 337/500\n",
            "1/1 [==============================] - 0s 8ms/step - loss: 0.0017\n",
            "Epoch 338/500\n",
            "1/1 [==============================] - 0s 10ms/step - loss: 0.0017\n",
            "Epoch 339/500\n",
            "1/1 [==============================] - 0s 10ms/step - loss: 0.0016\n",
            "Epoch 340/500\n",
            "1/1 [==============================] - 0s 9ms/step - loss: 0.0016\n",
            "Epoch 341/500\n",
            "1/1 [==============================] - 0s 11ms/step - loss: 0.0016\n",
            "Epoch 342/500\n",
            "1/1 [==============================] - 0s 8ms/step - loss: 0.0015\n",
            "Epoch 343/500\n",
            "1/1 [==============================] - 0s 8ms/step - loss: 0.0015\n",
            "Epoch 344/500\n",
            "1/1 [==============================] - 0s 10ms/step - loss: 0.0015\n",
            "Epoch 345/500\n",
            "1/1 [==============================] - 0s 11ms/step - loss: 0.0015\n",
            "Epoch 346/500\n",
            "1/1 [==============================] - 0s 10ms/step - loss: 0.0014\n",
            "Epoch 347/500\n",
            "1/1 [==============================] - 0s 11ms/step - loss: 0.0014\n",
            "Epoch 348/500\n",
            "1/1 [==============================] - 0s 9ms/step - loss: 0.0014\n",
            "Epoch 349/500\n",
            "1/1 [==============================] - 0s 8ms/step - loss: 0.0013\n",
            "Epoch 350/500\n",
            "1/1 [==============================] - 0s 16ms/step - loss: 0.0013\n",
            "Epoch 351/500\n",
            "1/1 [==============================] - 0s 9ms/step - loss: 0.0013\n",
            "Epoch 352/500\n",
            "1/1 [==============================] - 0s 12ms/step - loss: 0.0013\n",
            "Epoch 353/500\n",
            "1/1 [==============================] - 0s 13ms/step - loss: 0.0012\n",
            "Epoch 354/500\n",
            "1/1 [==============================] - 0s 12ms/step - loss: 0.0012\n",
            "Epoch 355/500\n",
            "1/1 [==============================] - 0s 12ms/step - loss: 0.0012\n",
            "Epoch 356/500\n",
            "1/1 [==============================] - 0s 12ms/step - loss: 0.0012\n",
            "Epoch 357/500\n",
            "1/1 [==============================] - 0s 12ms/step - loss: 0.0011\n",
            "Epoch 358/500\n",
            "1/1 [==============================] - 0s 17ms/step - loss: 0.0011\n",
            "Epoch 359/500\n",
            "1/1 [==============================] - 0s 14ms/step - loss: 0.0011\n",
            "Epoch 360/500\n",
            "1/1 [==============================] - 0s 15ms/step - loss: 0.0011\n",
            "Epoch 361/500\n",
            "1/1 [==============================] - 0s 19ms/step - loss: 0.0010\n",
            "Epoch 362/500\n",
            "1/1 [==============================] - 0s 10ms/step - loss: 0.0010\n",
            "Epoch 363/500\n",
            "1/1 [==============================] - 0s 10ms/step - loss: 0.0010\n",
            "Epoch 364/500\n",
            "1/1 [==============================] - 0s 15ms/step - loss: 9.8101e-04\n",
            "Epoch 365/500\n",
            "1/1 [==============================] - 0s 18ms/step - loss: 9.6086e-04\n",
            "Epoch 366/500\n",
            "1/1 [==============================] - 0s 12ms/step - loss: 9.4112e-04\n",
            "Epoch 367/500\n",
            "1/1 [==============================] - 0s 16ms/step - loss: 9.2179e-04\n",
            "Epoch 368/500\n",
            "1/1 [==============================] - 0s 11ms/step - loss: 9.0286e-04\n",
            "Epoch 369/500\n",
            "1/1 [==============================] - 0s 10ms/step - loss: 8.8432e-04\n",
            "Epoch 370/500\n",
            "1/1 [==============================] - 0s 14ms/step - loss: 8.6615e-04\n",
            "Epoch 371/500\n",
            "1/1 [==============================] - 0s 10ms/step - loss: 8.4836e-04\n",
            "Epoch 372/500\n",
            "1/1 [==============================] - 0s 10ms/step - loss: 8.3093e-04\n",
            "Epoch 373/500\n",
            "1/1 [==============================] - 0s 9ms/step - loss: 8.1386e-04\n",
            "Epoch 374/500\n",
            "1/1 [==============================] - 0s 14ms/step - loss: 7.9714e-04\n",
            "Epoch 375/500\n",
            "1/1 [==============================] - 0s 14ms/step - loss: 7.8077e-04\n",
            "Epoch 376/500\n",
            "1/1 [==============================] - 0s 10ms/step - loss: 7.6473e-04\n",
            "Epoch 377/500\n",
            "1/1 [==============================] - 0s 13ms/step - loss: 7.4903e-04\n",
            "Epoch 378/500\n",
            "1/1 [==============================] - 0s 11ms/step - loss: 7.3364e-04\n",
            "Epoch 379/500\n",
            "1/1 [==============================] - 0s 11ms/step - loss: 7.1857e-04\n",
            "Epoch 380/500\n",
            "1/1 [==============================] - 0s 13ms/step - loss: 7.0381e-04\n",
            "Epoch 381/500\n",
            "1/1 [==============================] - 0s 9ms/step - loss: 6.8935e-04\n",
            "Epoch 382/500\n",
            "1/1 [==============================] - 0s 11ms/step - loss: 6.7519e-04\n",
            "Epoch 383/500\n",
            "1/1 [==============================] - 0s 14ms/step - loss: 6.6132e-04\n",
            "Epoch 384/500\n",
            "1/1 [==============================] - 0s 11ms/step - loss: 6.4774e-04\n",
            "Epoch 385/500\n",
            "1/1 [==============================] - 0s 13ms/step - loss: 6.3444e-04\n",
            "Epoch 386/500\n",
            "1/1 [==============================] - 0s 12ms/step - loss: 6.2141e-04\n",
            "Epoch 387/500\n",
            "1/1 [==============================] - 0s 14ms/step - loss: 6.0864e-04\n",
            "Epoch 388/500\n",
            "1/1 [==============================] - 0s 12ms/step - loss: 5.9614e-04\n",
            "Epoch 389/500\n",
            "1/1 [==============================] - 0s 11ms/step - loss: 5.8389e-04\n",
            "Epoch 390/500\n",
            "1/1 [==============================] - 0s 11ms/step - loss: 5.7190e-04\n",
            "Epoch 391/500\n",
            "1/1 [==============================] - 0s 9ms/step - loss: 5.6015e-04\n",
            "Epoch 392/500\n",
            "1/1 [==============================] - 0s 10ms/step - loss: 5.4865e-04\n",
            "Epoch 393/500\n",
            "1/1 [==============================] - 0s 8ms/step - loss: 5.3738e-04\n",
            "Epoch 394/500\n",
            "1/1 [==============================] - 0s 9ms/step - loss: 5.2634e-04\n",
            "Epoch 395/500\n",
            "1/1 [==============================] - 0s 8ms/step - loss: 5.1553e-04\n",
            "Epoch 396/500\n",
            "1/1 [==============================] - 0s 9ms/step - loss: 5.0494e-04\n",
            "Epoch 397/500\n",
            "1/1 [==============================] - 0s 10ms/step - loss: 4.9457e-04\n",
            "Epoch 398/500\n",
            "1/1 [==============================] - 0s 9ms/step - loss: 4.8441e-04\n",
            "Epoch 399/500\n",
            "1/1 [==============================] - 0s 9ms/step - loss: 4.7446e-04\n",
            "Epoch 400/500\n",
            "1/1 [==============================] - 0s 9ms/step - loss: 4.6471e-04\n",
            "Epoch 401/500\n",
            "1/1 [==============================] - 0s 9ms/step - loss: 4.5517e-04\n",
            "Epoch 402/500\n",
            "1/1 [==============================] - 0s 9ms/step - loss: 4.4582e-04\n",
            "Epoch 403/500\n",
            "1/1 [==============================] - 0s 11ms/step - loss: 4.3666e-04\n",
            "Epoch 404/500\n",
            "1/1 [==============================] - 0s 10ms/step - loss: 4.2769e-04\n",
            "Epoch 405/500\n",
            "1/1 [==============================] - 0s 10ms/step - loss: 4.1891e-04\n",
            "Epoch 406/500\n",
            "1/1 [==============================] - 0s 12ms/step - loss: 4.1030e-04\n",
            "Epoch 407/500\n",
            "1/1 [==============================] - 0s 13ms/step - loss: 4.0188e-04\n",
            "Epoch 408/500\n",
            "1/1 [==============================] - 0s 8ms/step - loss: 3.9362e-04\n",
            "Epoch 409/500\n",
            "1/1 [==============================] - 0s 8ms/step - loss: 3.8554e-04\n",
            "Epoch 410/500\n",
            "1/1 [==============================] - 0s 13ms/step - loss: 3.7762e-04\n",
            "Epoch 411/500\n",
            "1/1 [==============================] - 0s 14ms/step - loss: 3.6986e-04\n",
            "Epoch 412/500\n",
            "1/1 [==============================] - 0s 15ms/step - loss: 3.6226e-04\n",
            "Epoch 413/500\n",
            "1/1 [==============================] - 0s 13ms/step - loss: 3.5482e-04\n",
            "Epoch 414/500\n",
            "1/1 [==============================] - 0s 10ms/step - loss: 3.4753e-04\n",
            "Epoch 415/500\n",
            "1/1 [==============================] - 0s 9ms/step - loss: 3.4040e-04\n",
            "Epoch 416/500\n",
            "1/1 [==============================] - 0s 14ms/step - loss: 3.3340e-04\n",
            "Epoch 417/500\n",
            "1/1 [==============================] - 0s 13ms/step - loss: 3.2655e-04\n",
            "Epoch 418/500\n",
            "1/1 [==============================] - 0s 11ms/step - loss: 3.1985e-04\n",
            "Epoch 419/500\n",
            "1/1 [==============================] - 0s 11ms/step - loss: 3.1328e-04\n",
            "Epoch 420/500\n",
            "1/1 [==============================] - 0s 11ms/step - loss: 3.0684e-04\n",
            "Epoch 421/500\n",
            "1/1 [==============================] - 0s 8ms/step - loss: 3.0054e-04\n",
            "Epoch 422/500\n",
            "1/1 [==============================] - 0s 9ms/step - loss: 2.9437e-04\n",
            "Epoch 423/500\n",
            "1/1 [==============================] - 0s 13ms/step - loss: 2.8832e-04\n",
            "Epoch 424/500\n",
            "1/1 [==============================] - 0s 10ms/step - loss: 2.8240e-04\n",
            "Epoch 425/500\n",
            "1/1 [==============================] - 0s 8ms/step - loss: 2.7660e-04\n",
            "Epoch 426/500\n",
            "1/1 [==============================] - 0s 14ms/step - loss: 2.7091e-04\n",
            "Epoch 427/500\n",
            "1/1 [==============================] - 0s 12ms/step - loss: 2.6535e-04\n",
            "Epoch 428/500\n",
            "1/1 [==============================] - 0s 9ms/step - loss: 2.5990e-04\n",
            "Epoch 429/500\n",
            "1/1 [==============================] - 0s 13ms/step - loss: 2.5456e-04\n",
            "Epoch 430/500\n",
            "1/1 [==============================] - 0s 10ms/step - loss: 2.4933e-04\n",
            "Epoch 431/500\n",
            "1/1 [==============================] - 0s 11ms/step - loss: 2.4421e-04\n",
            "Epoch 432/500\n",
            "1/1 [==============================] - 0s 11ms/step - loss: 2.3920e-04\n",
            "Epoch 433/500\n",
            "1/1 [==============================] - 0s 9ms/step - loss: 2.3428e-04\n",
            "Epoch 434/500\n",
            "1/1 [==============================] - 0s 10ms/step - loss: 2.2947e-04\n",
            "Epoch 435/500\n",
            "1/1 [==============================] - 0s 24ms/step - loss: 2.2476e-04\n",
            "Epoch 436/500\n",
            "1/1 [==============================] - 0s 28ms/step - loss: 2.2014e-04\n",
            "Epoch 437/500\n",
            "1/1 [==============================] - 0s 22ms/step - loss: 2.1562e-04\n",
            "Epoch 438/500\n",
            "1/1 [==============================] - 0s 17ms/step - loss: 2.1119e-04\n",
            "Epoch 439/500\n",
            "1/1 [==============================] - 0s 16ms/step - loss: 2.0685e-04\n",
            "Epoch 440/500\n",
            "1/1 [==============================] - 0s 33ms/step - loss: 2.0261e-04\n",
            "Epoch 441/500\n",
            "1/1 [==============================] - 0s 30ms/step - loss: 1.9844e-04\n",
            "Epoch 442/500\n",
            "1/1 [==============================] - 0s 21ms/step - loss: 1.9437e-04\n",
            "Epoch 443/500\n",
            "1/1 [==============================] - 0s 17ms/step - loss: 1.9037e-04\n",
            "Epoch 444/500\n",
            "1/1 [==============================] - 0s 17ms/step - loss: 1.8646e-04\n",
            "Epoch 445/500\n",
            "1/1 [==============================] - 0s 21ms/step - loss: 1.8263e-04\n",
            "Epoch 446/500\n",
            "1/1 [==============================] - 0s 22ms/step - loss: 1.7888e-04\n",
            "Epoch 447/500\n",
            "1/1 [==============================] - 0s 22ms/step - loss: 1.7521e-04\n",
            "Epoch 448/500\n",
            "1/1 [==============================] - 0s 19ms/step - loss: 1.7161e-04\n",
            "Epoch 449/500\n",
            "1/1 [==============================] - 0s 13ms/step - loss: 1.6808e-04\n",
            "Epoch 450/500\n",
            "1/1 [==============================] - 0s 31ms/step - loss: 1.6463e-04\n",
            "Epoch 451/500\n",
            "1/1 [==============================] - 0s 28ms/step - loss: 1.6125e-04\n",
            "Epoch 452/500\n",
            "1/1 [==============================] - 0s 35ms/step - loss: 1.5794e-04\n",
            "Epoch 453/500\n",
            "1/1 [==============================] - 0s 21ms/step - loss: 1.5469e-04\n",
            "Epoch 454/500\n",
            "1/1 [==============================] - 0s 19ms/step - loss: 1.5151e-04\n",
            "Epoch 455/500\n",
            "1/1 [==============================] - 0s 15ms/step - loss: 1.4840e-04\n",
            "Epoch 456/500\n",
            "1/1 [==============================] - 0s 11ms/step - loss: 1.4535e-04\n",
            "Epoch 457/500\n",
            "1/1 [==============================] - 0s 11ms/step - loss: 1.4237e-04\n",
            "Epoch 458/500\n",
            "1/1 [==============================] - 0s 10ms/step - loss: 1.3944e-04\n",
            "Epoch 459/500\n",
            "1/1 [==============================] - 0s 13ms/step - loss: 1.3658e-04\n",
            "Epoch 460/500\n",
            "1/1 [==============================] - 0s 12ms/step - loss: 1.3378e-04\n",
            "Epoch 461/500\n",
            "1/1 [==============================] - 0s 14ms/step - loss: 1.3103e-04\n",
            "Epoch 462/500\n",
            "1/1 [==============================] - 0s 23ms/step - loss: 1.2834e-04\n",
            "Epoch 463/500\n",
            "1/1 [==============================] - 0s 17ms/step - loss: 1.2570e-04\n",
            "Epoch 464/500\n",
            "1/1 [==============================] - 0s 18ms/step - loss: 1.2312e-04\n",
            "Epoch 465/500\n",
            "1/1 [==============================] - 0s 17ms/step - loss: 1.2059e-04\n",
            "Epoch 466/500\n",
            "1/1 [==============================] - 0s 15ms/step - loss: 1.1811e-04\n",
            "Epoch 467/500\n",
            "1/1 [==============================] - 0s 18ms/step - loss: 1.1569e-04\n",
            "Epoch 468/500\n",
            "1/1 [==============================] - 0s 18ms/step - loss: 1.1331e-04\n",
            "Epoch 469/500\n",
            "1/1 [==============================] - 0s 14ms/step - loss: 1.1098e-04\n",
            "Epoch 470/500\n",
            "1/1 [==============================] - 0s 14ms/step - loss: 1.0870e-04\n",
            "Epoch 471/500\n",
            "1/1 [==============================] - 0s 15ms/step - loss: 1.0647e-04\n",
            "Epoch 472/500\n",
            "1/1 [==============================] - 0s 18ms/step - loss: 1.0428e-04\n",
            "Epoch 473/500\n",
            "1/1 [==============================] - 0s 25ms/step - loss: 1.0214e-04\n",
            "Epoch 474/500\n",
            "1/1 [==============================] - 0s 15ms/step - loss: 1.0004e-04\n",
            "Epoch 475/500\n",
            "1/1 [==============================] - 0s 15ms/step - loss: 9.7988e-05\n",
            "Epoch 476/500\n",
            "1/1 [==============================] - 0s 15ms/step - loss: 9.5976e-05\n",
            "Epoch 477/500\n",
            "1/1 [==============================] - 0s 10ms/step - loss: 9.4004e-05\n",
            "Epoch 478/500\n",
            "1/1 [==============================] - 0s 15ms/step - loss: 9.2073e-05\n",
            "Epoch 479/500\n",
            "1/1 [==============================] - 0s 16ms/step - loss: 9.0182e-05\n",
            "Epoch 480/500\n",
            "1/1 [==============================] - 0s 21ms/step - loss: 8.8330e-05\n",
            "Epoch 481/500\n",
            "1/1 [==============================] - 0s 17ms/step - loss: 8.6515e-05\n",
            "Epoch 482/500\n",
            "1/1 [==============================] - 0s 20ms/step - loss: 8.4738e-05\n",
            "Epoch 483/500\n",
            "1/1 [==============================] - 0s 23ms/step - loss: 8.2997e-05\n",
            "Epoch 484/500\n",
            "1/1 [==============================] - 0s 14ms/step - loss: 8.1293e-05\n",
            "Epoch 485/500\n",
            "1/1 [==============================] - 0s 16ms/step - loss: 7.9623e-05\n",
            "Epoch 486/500\n",
            "1/1 [==============================] - 0s 19ms/step - loss: 7.7988e-05\n",
            "Epoch 487/500\n",
            "1/1 [==============================] - 0s 27ms/step - loss: 7.6385e-05\n",
            "Epoch 488/500\n",
            "1/1 [==============================] - 0s 29ms/step - loss: 7.4816e-05\n",
            "Epoch 489/500\n",
            "1/1 [==============================] - 0s 22ms/step - loss: 7.3280e-05\n",
            "Epoch 490/500\n",
            "1/1 [==============================] - 0s 22ms/step - loss: 7.1775e-05\n",
            "Epoch 491/500\n",
            "1/1 [==============================] - 0s 25ms/step - loss: 7.0301e-05\n",
            "Epoch 492/500\n",
            "1/1 [==============================] - 0s 21ms/step - loss: 6.8856e-05\n",
            "Epoch 493/500\n",
            "1/1 [==============================] - 0s 18ms/step - loss: 6.7442e-05\n",
            "Epoch 494/500\n",
            "1/1 [==============================] - 0s 13ms/step - loss: 6.6056e-05\n",
            "Epoch 495/500\n",
            "1/1 [==============================] - 0s 12ms/step - loss: 6.4700e-05\n",
            "Epoch 496/500\n",
            "1/1 [==============================] - 0s 11ms/step - loss: 6.3371e-05\n",
            "Epoch 497/500\n",
            "1/1 [==============================] - 0s 18ms/step - loss: 6.2069e-05\n",
            "Epoch 498/500\n",
            "1/1 [==============================] - 0s 19ms/step - loss: 6.0794e-05\n",
            "Epoch 499/500\n",
            "1/1 [==============================] - 0s 15ms/step - loss: 5.9545e-05\n",
            "Epoch 500/500\n",
            "1/1 [==============================] - 0s 15ms/step - loss: 5.8322e-05\n"
          ]
        }
      ],
      "source": [
        "# ajustar o modelo aos dados (também conhecido como treinar o modelo)\n",
        "\n",
        "history = model.fit(xs, ys, epochs=500)"
      ]
    },
    {
      "cell_type": "markdown",
      "metadata": {
        "id": "93itssi3PgsX"
      },
      "source": [
        "Inspecionando o Modelo"
      ]
    },
    {
      "cell_type": "code",
      "execution_count": null,
      "metadata": {
        "colab": {
          "base_uri": "https://localhost:8080/"
        },
        "id": "Knk6L2pzPjo_",
        "outputId": "e0aa6f5d-419d-4271-ed63-6701745ee9ee"
      },
      "outputs": [
        {
          "output_type": "stream",
          "name": "stdout",
          "text": [
            "wi =  1.9967707\n",
            "b  =  -0.989988\n"
          ]
        }
      ],
      "source": [
        "print(\"wi = \", model.get_weights()[0][0][0])\n",
        "print(\"b  = \", model.get_weights()[1][0])"
      ]
    },
    {
      "cell_type": "code",
      "execution_count": null,
      "metadata": {
        "id": "9od0MhXAXA5Z"
      },
      "outputs": [],
      "source": [
        "# Salvando o Modelo treinado\n",
        "model.save('my_first_model_trained.h5')"
      ]
    },
    {
      "cell_type": "code",
      "execution_count": null,
      "metadata": {
        "colab": {
          "base_uri": "https://localhost:8080/",
          "height": 821
        },
        "id": "N1xsUt17LLmj",
        "outputId": "cd39a104-7449-4f7d-9986-6283f0d10bfe"
      },
      "outputs": [
        {
          "output_type": "display_data",
          "data": {
            "text/plain": [
              "<IPython.core.display.Javascript object>"
            ],
            "application/javascript": [
              "(async (port, path, width, height, cache, element) => {\n",
              "    if (!google.colab.kernel.accessAllowed && !cache) {\n",
              "      return;\n",
              "    }\n",
              "    element.appendChild(document.createTextNode(''));\n",
              "    const url = await google.colab.kernel.proxyPort(port, {cache});\n",
              "    const iframe = document.createElement('iframe');\n",
              "    iframe.src = new URL(path, url).toString();\n",
              "    iframe.height = height;\n",
              "    iframe.width = width;\n",
              "    iframe.style.border = 0;\n",
              "    iframe.allow = [\n",
              "        'accelerometer',\n",
              "        'autoplay',\n",
              "        'camera',\n",
              "        'clipboard-read',\n",
              "        'clipboard-write',\n",
              "        'gyroscope',\n",
              "        'magnetometer',\n",
              "        'microphone',\n",
              "        'serial',\n",
              "        'usb',\n",
              "        'xr-spatial-tracking',\n",
              "    ].join('; ');\n",
              "    element.appendChild(iframe);\n",
              "  })(34729, \"/\", \"100%\", \"800\", false, window.element)"
            ]
          },
          "metadata": {}
        }
      ],
      "source": [
        "#visualizando o modelo treinado no netron\n",
        "port = portpicker.pick_unused_port()\n",
        "\n",
        "# Read the model file and start the netron browser.\n",
        "with output.temporary():\n",
        "  netron.start('my_first_model_trained.h5', port, browse=False)\n",
        "\n",
        "output.serve_kernel_port_as_iframe(port, height='800')"
      ]
    },
    {
      "cell_type": "markdown",
      "metadata": {
        "id": "_oli3anGPV4z"
      },
      "source": [
        "## Testando o Modelo"
      ]
    },
    {
      "cell_type": "code",
      "execution_count": null,
      "metadata": {
        "colab": {
          "base_uri": "https://localhost:8080/"
        },
        "id": "nidfsvPCEWlE",
        "outputId": "c7e02d65-9b99-40c0-b3a1-f7438cf58844"
      },
      "outputs": [
        {
          "output_type": "stream",
          "name": "stdout",
          "text": [
            "1/1 [==============================] - 0s 154ms/step\n",
            "[[18.977718]]\n"
          ]
        }
      ],
      "source": [
        "# Predizer a saída de um novo dado (Inferência)\n",
        "\n",
        "print(model.predict([10.0]))"
      ]
    },
    {
      "cell_type": "code",
      "execution_count": null,
      "metadata": {
        "colab": {
          "base_uri": "https://localhost:8080/"
        },
        "id": "FU9DgCReU01e",
        "outputId": "911b51a3-f948-4790-a79f-7558c037a290"
      },
      "outputs": [
        {
          "output_type": "execute_result",
          "data": {
            "text/plain": [
              "dict"
            ]
          },
          "metadata": {},
          "execution_count": 18
        }
      ],
      "source": [
        "type(history.history)"
      ]
    },
    {
      "cell_type": "code",
      "execution_count": null,
      "metadata": {
        "colab": {
          "base_uri": "https://localhost:8080/"
        },
        "id": "z83TiMLeU8hk",
        "outputId": "c6a99c1c-7974-4590-8465-738015fd6aa6"
      },
      "outputs": [
        {
          "output_type": "execute_result",
          "data": {
            "text/plain": [
              "dict_keys(['loss'])"
            ]
          },
          "metadata": {},
          "execution_count": 19
        }
      ],
      "source": [
        "history.history.keys()"
      ]
    },
    {
      "cell_type": "code",
      "execution_count": null,
      "metadata": {
        "colab": {
          "base_uri": "https://localhost:8080/",
          "height": 472
        },
        "collapsed": true,
        "id": "vpdU7AZbT0YJ",
        "outputId": "d416d220-8e9b-424a-bc4d-740381fb8f5e"
      },
      "outputs": [
        {
          "output_type": "display_data",
          "data": {
            "text/plain": [
              "<Figure size 640x480 with 1 Axes>"
            ],
            "image/png": "[encoded data removed]"
          },
          "metadata": {}
        }
      ],
      "source": [
        "import matplotlib.pyplot as plt\n",
        "plt.plot(history.history['loss'])\n",
        "plt.title('model loss')\n",
        "plt.ylabel('loss')\n",
        "plt.xlabel('epoch')\n",
        "plt.legend(['train'], loc='upper right')\n",
        "plt.show()"
      ]
    },
    {
      "cell_type": "code",
      "execution_count": null,
      "metadata": {
        "colab": {
          "base_uri": "https://localhost:8080/"
        },
        "id": "uH2QssCwo2qH",
        "outputId": "86e70fad-46de-44c0-a899-9ac131d20852"
      },
      "outputs": [
        {
          "output_type": "execute_result",
          "data": {
            "text/plain": [
              "[39.67155075073242,\n",
              " 31.56525421142578,\n",
              " 25.18034553527832,\n",
              " 20.149892807006836,\n",
              " 16.18520736694336,\n",
              " 13.059163093566895,\n",
              " 10.593055725097656,\n",
              " 8.646294593811035,\n",
              " 7.108264446258545,\n",
              " 5.8919358253479,\n",
              " 4.928834915161133,\n",
              " 4.165088653564453,\n",
              " 3.5583083629608154,\n",
              " 3.0751419067382812,\n",
              " 2.6893484592437744,\n",
              " 2.380279302597046,\n",
              " 2.1316871643066406,\n",
              " 1.9307861328125,\n",
              " 1.76751708984375,\n",
              " 1.6339607238769531,\n",
              " 1.5238865613937378,\n",
              " 1.4323891401290894,\n",
              " 1.3556078672409058,\n",
              " 1.2905031442642212,\n",
              " 1.2346810102462769,\n",
              " 1.1862568855285645,\n",
              " 1.1437454223632812,\n",
              " 1.1059765815734863,\n",
              " 1.0720278024673462,\n",
              " 1.0411714315414429,\n",
              " 1.0128332376480103,\n",
              " 0.9865594506263733,\n",
              " 0.9619917869567871,\n",
              " 0.9388465881347656,\n",
              " 0.9168985486030579,\n",
              " 0.8959693908691406,\n",
              " 0.8759168982505798,\n",
              " 0.8566279411315918,\n",
              " 0.8380119204521179,\n",
              " 0.8199957013130188,\n",
              " 0.8025209307670593,\n",
              " 0.7855396270751953,\n",
              " 0.7690131068229675,\n",
              " 0.7529094815254211,\n",
              " 0.7372023463249207,\n",
              " 0.7218692302703857,\n",
              " 0.7068919539451599,\n",
              " 0.6922540664672852,\n",
              " 0.6779420971870422,\n",
              " 0.6639437079429626,\n",
              " 0.6502485871315002,\n",
              " 0.6368468403816223,\n",
              " 0.6237301230430603,\n",
              " 0.6108904480934143,\n",
              " 0.598320484161377,\n",
              " 0.5860132575035095,\n",
              " 0.5739626288414001,\n",
              " 0.5621622204780579,\n",
              " 0.5506067276000977,\n",
              " 0.5392902493476868,\n",
              " 0.5282077193260193,\n",
              " 0.5173539519309998,\n",
              " 0.5067238807678223,\n",
              " 0.4963129460811615,\n",
              " 0.4861164093017578,\n",
              " 0.4761296808719635,\n",
              " 0.4663484990596771,\n",
              " 0.4567684829235077,\n",
              " 0.44738534092903137,\n",
              " 0.43819522857666016,\n",
              " 0.42919397354125977,\n",
              " 0.4203777015209198,\n",
              " 0.41174256801605225,\n",
              " 0.40328481793403625,\n",
              " 0.39500102400779724,\n",
              " 0.3868872821331024,\n",
              " 0.37894025444984436,\n",
              " 0.3711565434932709,\n",
              " 0.363532692193985,\n",
              " 0.35606542229652405,\n",
              " 0.3487515449523926,\n",
              " 0.34158799052238464,\n",
              " 0.33457157015800476,\n",
              " 0.327699214220047,\n",
              " 0.32096800208091736,\n",
              " 0.3143751323223114,\n",
              " 0.30791762471199036,\n",
              " 0.3015928268432617,\n",
              " 0.29539793729782104,\n",
              " 0.28933027386665344,\n",
              " 0.2833872139453888,\n",
              " 0.2775663137435913,\n",
              " 0.2718648910522461,\n",
              " 0.2662806212902069,\n",
              " 0.2608110308647156,\n",
              " 0.25545385479927063,\n",
              " 0.25020667910575867,\n",
              " 0.24506723880767822,\n",
              " 0.24003346264362335,\n",
              " 0.23510295152664185,\n",
              " 0.23027385771274567,\n",
              " 0.225543811917305,\n",
              " 0.22091102600097656,\n",
              " 0.21637339890003204,\n",
              " 0.21192890405654907,\n",
              " 0.20757578313350677,\n",
              " 0.20331208407878876,\n",
              " 0.199135884642601,\n",
              " 0.19504551589488983,\n",
              " 0.19103915989398956,\n",
              " 0.18711505830287933,\n",
              " 0.18327166140079498,\n",
              " 0.17950718104839325,\n",
              " 0.1758200079202652,\n",
              " 0.1722085028886795,\n",
              " 0.16867129504680634,\n",
              " 0.16520662605762482,\n",
              " 0.1618131697177887,\n",
              " 0.1584894210100174,\n",
              " 0.1552339792251587,\n",
              " 0.15204541385173798,\n",
              " 0.14892230927944183,\n",
              " 0.14586332440376282,\n",
              " 0.14286720752716064,\n",
              " 0.13993264734745026,\n",
              " 0.1370583176612854,\n",
              " 0.13424308598041534,\n",
              " 0.1314856857061386,\n",
              " 0.12878485023975372,\n",
              " 0.12613950669765472,\n",
              " 0.12354856729507446,\n",
              " 0.12101078778505325,\n",
              " 0.11852509528398514,\n",
              " 0.1160905584692955,\n",
              " 0.11370601505041122,\n",
              " 0.11137042194604874,\n",
              " 0.10908273607492447,\n",
              " 0.10684216767549515,\n",
              " 0.10464757680892944,\n",
              " 0.10249804705381393,\n",
              " 0.100392647087574,\n",
              " 0.09833052009344101,\n",
              " 0.09631079435348511,\n",
              " 0.09433247894048691,\n",
              " 0.09239483624696732,\n",
              " 0.09049701690673828,\n",
              " 0.08863814920186996,\n",
              " 0.08681746572256088,\n",
              " 0.08503418415784836,\n",
              " 0.08328753709793091,\n",
              " 0.08157674968242645,\n",
              " 0.07990113645792007,\n",
              " 0.07825986295938492,\n",
              " 0.07665238529443741,\n",
              " 0.07507789134979248,\n",
              " 0.0735357329249382,\n",
              " 0.07202526181936264,\n",
              " 0.07054580748081207,\n",
              " 0.06909677386283875,\n",
              " 0.06767746806144714,\n",
              " 0.0662873238325119,\n",
              " 0.06492573767900467,\n",
              " 0.06359215080738068,\n",
              " 0.06228591874241829,\n",
              " 0.061006542295217514,\n",
              " 0.059753429144620895,\n",
              " 0.05852602422237396,\n",
              " 0.05732390284538269,\n",
              " 0.05614642798900604,\n",
              " 0.0549931637942791,\n",
              " 0.053863540291786194,\n",
              " 0.0527571476995945,\n",
              " 0.05167348310351372,\n",
              " 0.05061209201812744,\n",
              " 0.04957249388098717,\n",
              " 0.048554230481386185,\n",
              " 0.04755689203739166,\n",
              " 0.046580079942941666,\n",
              " 0.045623283833265305,\n",
              " 0.04468616470694542,\n",
              " 0.043768297880887985,\n",
              " 0.04286923632025719,\n",
              " 0.04198870062828064,\n",
              " 0.04112621024250984,\n",
              " 0.04028145596385002,\n",
              " 0.039454057812690735,\n",
              " 0.03864363580942154,\n",
              " 0.03784986212849617,\n",
              " 0.037072423845529556,\n",
              " 0.036310937255620956,\n",
              " 0.03556505963206291,\n",
              " 0.03483453020453453,\n",
              " 0.03411902114748955,\n",
              " 0.033418167382478714,\n",
              " 0.032731760293245316,\n",
              " 0.0320594385266304,\n",
              " 0.03140091523528099,\n",
              " 0.0307559072971344,\n",
              " 0.030124148353934288,\n",
              " 0.029505394399166107,\n",
              " 0.02889935113489628,\n",
              " 0.02830575220286846,\n",
              " 0.027724316343665123,\n",
              " 0.027154847979545593,\n",
              " 0.02659709006547928,\n",
              " 0.026050753891468048,\n",
              " 0.02551565133035183,\n",
              " 0.024991532787680626,\n",
              " 0.02447819709777832,\n",
              " 0.023975418880581856,\n",
              " 0.023482948541641235,\n",
              " 0.02300059050321579,\n",
              " 0.022528136149048805,\n",
              " 0.02206539548933506,\n",
              " 0.021612146869301796,\n",
              " 0.02116822451353073,\n",
              " 0.0207334253937006,\n",
              " 0.020307548344135284,\n",
              " 0.01989041082561016,\n",
              " 0.019481860101222992,\n",
              " 0.01908169873058796,\n",
              " 0.018689755350351334,\n",
              " 0.01830584555864334,\n",
              " 0.01792983151972294,\n",
              " 0.01756153255701065,\n",
              " 0.01720081828534603,\n",
              " 0.016847487539052963,\n",
              " 0.01650143973529339,\n",
              " 0.016162488609552383,\n",
              " 0.0158305075019598,\n",
              " 0.015505327843129635,\n",
              " 0.01518684159964323,\n",
              " 0.014874901622533798,\n",
              " 0.01456936914473772,\n",
              " 0.014270110987126827,\n",
              " 0.013976991176605225,\n",
              " 0.013689887709915638,\n",
              " 0.013408683240413666,\n",
              " 0.013133247382938862,\n",
              " 0.012863491661846638,\n",
              " 0.012599259614944458,\n",
              " 0.012340470217168331,\n",
              " 0.012087002396583557,\n",
              " 0.011838729493319988,\n",
              " 0.011595555581152439,\n",
              " 0.01135736983269453,\n",
              " 0.011124084703624249,\n",
              " 0.010895590297877789,\n",
              " 0.010671794414520264,\n",
              " 0.010452565737068653,\n",
              " 0.010237877257168293,\n",
              " 0.010027579963207245,\n",
              " 0.009821614250540733,\n",
              " 0.009619868360459805,\n",
              " 0.009422260336577892,\n",
              " 0.00922873243689537,\n",
              " 0.009039160795509815,\n",
              " 0.008853493258357048,\n",
              " 0.008671638555824757,\n",
              " 0.008493506349623203,\n",
              " 0.008319049142301083,\n",
              " 0.008148168213665485,\n",
              " 0.007980815134942532,\n",
              " 0.007816876284778118,\n",
              " 0.0076563130132853985,\n",
              " 0.00749904103577137,\n",
              " 0.0073450119234621525,\n",
              " 0.007194150239229202,\n",
              " 0.007046375889331102,\n",
              " 0.006901642307639122,\n",
              " 0.006759880110621452,\n",
              " 0.0066210259683430195,\n",
              " 0.0064850361086428165,\n",
              " 0.0063518197275698185,\n",
              " 0.006221345160156488,\n",
              " 0.00609356164932251,\n",
              " 0.005968388635665178,\n",
              " 0.005845790263265371,\n",
              " 0.005725717172026634,\n",
              " 0.005608104635030031,\n",
              " 0.005492911208420992,\n",
              " 0.005380088929086924,\n",
              " 0.005269577261060476,\n",
              " 0.0051613361574709415,\n",
              " 0.005055318120867014,\n",
              " 0.004951490089297295,\n",
              " 0.004849769175052643,\n",
              " 0.004750160500407219,\n",
              " 0.004652583505958319,\n",
              " 0.0045570190995931625,\n",
              " 0.004463415592908859,\n",
              " 0.004371735733002424,\n",
              " 0.004281936213374138,\n",
              " 0.004193983972072601,\n",
              " 0.0041078426875174046,\n",
              " 0.004023455549031496,\n",
              " 0.0039408206939697266,\n",
              " 0.0038598666433244944,\n",
              " 0.0037805798929184675,\n",
              " 0.003702932270243764,\n",
              " 0.003626870224252343,\n",
              " 0.0035523679107427597,\n",
              " 0.0034794036764651537,\n",
              " 0.0034079281613230705,\n",
              " 0.003337922738865018,\n",
              " 0.0032693680841475725,\n",
              " 0.0032022064551711082,\n",
              " 0.0031364290043711662,\n",
              " 0.0030720094218850136,\n",
              " 0.003008904866874218,\n",
              " 0.0029471039306372404,\n",
              " 0.0028865623753517866,\n",
              " 0.0028272755444049835,\n",
              " 0.0027691952418535948,\n",
              " 0.002712313085794449,\n",
              " 0.002656599273905158,\n",
              " 0.002602029824629426,\n",
              " 0.0025485854130238295,\n",
              " 0.002496231347322464,\n",
              " 0.0024449611082673073,\n",
              " 0.0023947390727698803,\n",
              " 0.0023455407936125994,\n",
              " 0.002297360682860017,\n",
              " 0.002250180346891284,\n",
              " 0.0022039564792066813,\n",
              " 0.0021586876828223467,\n",
              " 0.0021143408957868814,\n",
              " 0.0020709128584712744,\n",
              " 0.0020283753983676434,\n",
              " 0.0019867164082825184,\n",
              " 0.0019459108589217067,\n",
              " 0.001905941404402256,\n",
              " 0.001866790116764605,\n",
              " 0.0018284429097548127,\n",
              " 0.0017908847657963634,\n",
              " 0.0017540996195748448,\n",
              " 0.001718074199743569,\n",
              " 0.001682779286056757,\n",
              " 0.0016482124337926507,\n",
              " 0.00161436153575778,\n",
              " 0.0015812013298273087,\n",
              " 0.0015487201744690537,\n",
              " 0.0015169089892879128,\n",
              " 0.0014857547357678413,\n",
              " 0.0014552368083968759,\n",
              " 0.0014253455447033048,\n",
              " 0.0013960693031549454,\n",
              " 0.0013673865469172597,\n",
              " 0.0013393029803410172,\n",
              " 0.001311792409978807,\n",
              " 0.001284850644879043,\n",
              " 0.001258454634808004,\n",
              " 0.0012326043797656894,\n",
              " 0.001207288121804595,\n",
              " 0.0011824913090094924,\n",
              " 0.0011582031147554517,\n",
              " 0.0011344115482643247,\n",
              " 0.0011111092753708363,\n",
              " 0.0010882848873734474,\n",
              " 0.001065928372554481,\n",
              " 0.001044031116180122,\n",
              " 0.0010225879959762096,\n",
              " 0.0010015872539952397,\n",
              " 0.0009810136398300529,\n",
              " 0.0009608634863980114,\n",
              " 0.0009411234059371054,\n",
              " 0.0009217926417477429,\n",
              " 0.0009028597269207239,\n",
              " 0.0008843159303069115,\n",
              " 0.0008661493775434792,\n",
              " 0.0008483559940941632,\n",
              " 0.0008309332188218832,\n",
              " 0.0008138591074384749,\n",
              " 0.0007971444283612072,\n",
              " 0.0007807680522091687,\n",
              " 0.0007647303864359856,\n",
              " 0.0007490255520679057,\n",
              " 0.0007336367852985859,\n",
              " 0.0007185714202933013,\n",
              " 0.0007038095500320196,\n",
              " 0.0006893548998050392,\n",
              " 0.0006751928012818098,\n",
              " 0.0006613233126699924,\n",
              " 0.000647739740088582,\n",
              " 0.0006344380672089756,\n",
              " 0.0006214059540070593,\n",
              " 0.0006086418288759887,\n",
              " 0.0005961380084045231,\n",
              " 0.0005838937358930707,\n",
              " 0.0005719036562368274,\n",
              " 0.0005601537995971739,\n",
              " 0.0005486489972099662,\n",
              " 0.0005373800522647798,\n",
              " 0.0005263396305963397,\n",
              " 0.0005155292456038296,\n",
              " 0.0005049381288699806,\n",
              " 0.0004945690161548555,\n",
              " 0.00048440948012284935,\n",
              " 0.0004744584148284048,\n",
              " 0.00046471282257698476,\n",
              " 0.0004551659803837538,\n",
              " 0.0004458179755602032,\n",
              " 0.0004366593493614346,\n",
              " 0.0004276939725968987,\n",
              " 0.00041890787542797625,\n",
              " 0.00041030123247765005,\n",
              " 0.00040187675040215254,\n",
              " 0.00039362208917737007,\n",
              " 0.00038553678314201534,\n",
              " 0.0003776154189836234,\n",
              " 0.0003698607615660876,\n",
              " 0.00036226338124834,\n",
              " 0.00035482124076224864,\n",
              " 0.00034753282670862973,\n",
              " 0.0003403959271963686,\n",
              " 0.00033340207301080227,\n",
              " 0.00032655440736562014,\n",
              " 0.0003198466438334435,\n",
              " 0.00031327977194450796,\n",
              " 0.0003068425867240876,\n",
              " 0.0003005401522386819,\n",
              " 0.0002943660656455904,\n",
              " 0.0002883218403439969,\n",
              " 0.00028239950188435614,\n",
              " 0.00027659806073643267,\n",
              " 0.0002709148684516549,\n",
              " 0.00026535234064795077,\n",
              " 0.0002599014260340482,\n",
              " 0.00025456168805249035,\n",
              " 0.0002493340289220214,\n",
              " 0.0002442116674501449,\n",
              " 0.00023919697559904307,\n",
              " 0.00023428416170645505,\n",
              " 0.0002294726436957717,\n",
              " 0.0002247598022222519,\n",
              " 0.00022014090791344643,\n",
              " 0.00021562044275924563,\n",
              " 0.00021119097073096782,\n",
              " 0.00020685256458818913,\n",
              " 0.00020260532619431615,\n",
              " 0.00019844331836793572,\n",
              " 0.0001943663664860651,\n",
              " 0.00019037281163036823,\n",
              " 0.0001864621153799817,\n",
              " 0.0001826316729420796,\n",
              " 0.00017887994181364775,\n",
              " 0.00017520545225124806,\n",
              " 0.00017160613788291812,\n",
              " 0.00016808054351713508,\n",
              " 0.00016463016800116748,\n",
              " 0.00016124687681440264,\n",
              " 0.00015793585043866187,\n",
              " 0.00015469234494958073,\n",
              " 0.0001515133335487917,\n",
              " 0.00014840284711681306,\n",
              " 0.00014535465743392706,\n",
              " 0.00014236834249459207,\n",
              " 0.00013944345118943602,\n",
              " 0.0001365792122669518,\n",
              " 0.00013377521827351302,\n",
              " 0.00013102662342134863,\n",
              " 0.0001283356687054038,\n",
              " 0.00012569839600473642,\n",
              " 0.00012311751197557896,\n",
              " 0.00012058825086569414,\n",
              " 0.00011811317381216213,\n",
              " 0.00011568601621547714,\n",
              " 0.00011330976849421859,\n",
              " 0.00011098328832304105,\n",
              " 0.00010870227561099455,\n",
              " 0.000106470899481792,\n",
              " 0.0001042839212459512,\n",
              " 0.00010214163194177672,\n",
              " 0.00010004278738051653,\n",
              " 9.798761311685666e-05,\n",
              " 9.59757380769588e-05,\n",
              " 9.400440467288718e-05,\n",
              " 9.207299444824457e-05,\n",
              " 9.018170385388657e-05,\n",
              " 8.832962339511141e-05,\n",
              " 8.651507232571021e-05,\n",
              " 8.473778143525124e-05,\n",
              " 8.29973432701081e-05,\n",
              " 8.129273919621482e-05,\n",
              " 7.962331437738612e-05,\n",
              " 7.798757724231109e-05,\n",
              " 7.638536771992221e-05,\n",
              " 7.481648935936391e-05,\n",
              " 7.32798725948669e-05,\n",
              " 7.177546649472788e-05,\n",
              " 7.030065171420574e-05,\n",
              " 6.885628681629896e-05,\n",
              " 6.7442400904838e-05,\n",
              " 6.605575617868453e-05,\n",
              " 6.470014341175556e-05,\n",
              " 6.337123340927064e-05,\n",
              " 6.206932448549196e-05,\n",
              " 6.079424929339439e-05,\n",
              " 5.95446617808193e-05,\n",
              " 5.832182432641275e-05]"
            ]
          },
          "metadata": {},
          "execution_count": 21
        }
      ],
      "source": [
        "history.history['loss']"
      ]
    },
    {
      "cell_type": "markdown",
      "metadata": {
        "id": "w7tfWCjRo4HG"
      },
      "source": [
        "# Questão 1"
      ]
    },
    {
      "cell_type": "markdown",
      "source": [
        "## Criação e treinamento das redes neurais"
      ],
      "metadata": {
        "id": "mlbciGA3pM7g"
      }
    },
    {
      "cell_type": "code",
      "source": [
        "import tensorflow as tf\n",
        "import numpy as np\n",
        "import matplotlib.pyplot as plt"
      ],
      "metadata": {
        "id": "pdMjv0mFrwWy"
      },
      "execution_count": null,
      "outputs": []
    },
    {
      "cell_type": "code",
      "source": [
        "# Define alguns dados para treino (xs como entradas e ys como saídas)\n",
        "\n",
        "xs = np.array([-1.0,  0.0, 1.0, 2.0, 3.0, 4.0], dtype=float)\n",
        "ys = np.array([-3.0, -1.0, 1.0, 3.0, 5.0, 7.0], dtype=float)"
      ],
      "metadata": {
        "id": "HU-LLwOdr0vl"
      },
      "execution_count": null,
      "outputs": []
    },
    {
      "cell_type": "code",
      "execution_count": null,
      "metadata": {
        "id": "7ihWL7SCpBQ5",
        "colab": {
          "base_uri": "https://localhost:8080/"
        },
        "outputId": "f07e8787-a97f-4675-b6ed-358e554ac4aa"
      },
      "outputs": [
        {
          "output_type": "stream",
          "name": "stdout",
          "text": [
            "Model: \"sequential_6\"\n",
            "_________________________________________________________________\n",
            " Layer (type)                Output Shape              Param #   \n",
            "=================================================================\n",
            " dense_6 (Dense)             (None, 1)                 2         \n",
            "                                                                 \n",
            "=================================================================\n",
            "Total params: 2 (8.00 Byte)\n",
            "Trainable params: 2 (8.00 Byte)\n",
            "Non-trainable params: 0 (0.00 Byte)\n",
            "_________________________________________________________________\n"
          ]
        }
      ],
      "source": [
        "# Criando as redes neurais\n",
        "\n",
        "A1M1 = tf.keras.Sequential(\n",
        "          [tf.keras.layers.Dense( units=1, input_shape=[1])]\n",
        "    )\n",
        "A1M2 = tf.keras.Sequential(\n",
        "          [tf.keras.layers.Dense( units=1, input_shape=[1])]\n",
        "    )\n",
        "\n",
        "A1M3 = tf.keras.Sequential(\n",
        "          [tf.keras.layers.Dense( units=1, input_shape=[1])]\n",
        "    )\n",
        "\n",
        "# Compilando\n",
        "\n",
        "A1M1.compile(optimizer='sgd', loss='mean_squared_error')\n",
        "A1M2.compile(optimizer='sgd', loss='mean_squared_error')\n",
        "A1M3.compile(optimizer='sgd', loss='mean_squared_error')\n",
        "\n",
        "# RedeNeural1.save('Questao1.h5')\n",
        "\n",
        "A1M1.summary()"
      ]
    },
    {
      "cell_type": "code",
      "source": [
        "# Criando classe (Em desenvolvimento)\n",
        "class RedeNeural:\n",
        "  def __init__(self, kernel = None, nome = None, wi = None, b = None) -> None:\n",
        "    self.nome = nome\n",
        "    self.wi = wi\n",
        "    self.b = b\n",
        "    self.kernel = kernel\n",
        "\n",
        "  def setValues(self):\n",
        "    self.wi = self.get_weights()[0][0][0]\n",
        "    self.b = A1M1.get_weights()[1][0]"
      ],
      "metadata": {
        "id": "dpYgmWPtsI6V"
      },
      "execution_count": null,
      "outputs": []
    },
    {
      "cell_type": "code",
      "source": [
        "# Criando o dicionário de weights e bias\n",
        "\n",
        "modelosA1 = {\n",
        "  \"A1M1\": {\n",
        "    \"wi\": None,\n",
        "    \"b\": None\n",
        "  },\n",
        "  \"A1M2\": {\n",
        "    \"wi\": None,\n",
        "    \"b\": None\n",
        "  },\n",
        "  \"A1M3\": {\n",
        "    \"wi\": None,\n",
        "    \"b\": None\n",
        "  }\n",
        "}\n",
        "\n",
        "# Treinando as redes neurais\n",
        "\n",
        "A1M1_History = A1M1.fit(xs, ys, epochs=100, verbose=0)\n",
        "modelosA1[\"A1M1\"][\"wi\"] = A1M1.get_weights()[0][0][0]\n",
        "modelosA1[\"A1M1\"][\"b\"] = A1M1.get_weights()[1][0]\n",
        "\n",
        "A1M2_History = A1M2.fit(xs, ys, epochs=300, verbose=0)\n",
        "modelosA1[\"A1M2\"][\"wi\"] = A1M2.get_weights()[0][0][0]\n",
        "modelosA1[\"A1M2\"][\"b\"] = A1M2.get_weights()[1][0]\n",
        "\n",
        "A1M3_History = A1M3.fit(xs, ys, epochs=500, verbose=0)\n",
        "modelosA1[\"A1M3\"][\"wi\"] = A1M3.get_weights()[0][0][0]\n",
        "modelosA1[\"A1M3\"][\"b\"] = A1M3.get_weights()[1][0]\n",
        "\n",
        "predictA1M1 = A1M1.predict([10.0])\n",
        "predictA1M2 = A1M2.predict([10.0])\n",
        "predictA1M3 = A1M3.predict([10.0])"
      ],
      "metadata": {
        "colab": {
          "base_uri": "https://localhost:8080/"
        },
        "id": "aipqFHeLsQLG",
        "outputId": "8872214e-a2cb-4a37-808f-6386812808e1"
      },
      "execution_count": null,
      "outputs": [
        {
          "output_type": "stream",
          "name": "stdout",
          "text": [
            "1/1 [==============================] - 0s 56ms/step\n",
            "1/1 [==============================] - 0s 60ms/step\n",
            "1/1 [==============================] - 0s 57ms/step\n"
          ]
        }
      ]
    },
    {
      "cell_type": "markdown",
      "source": [
        "## Análises gráficas de cada modelo"
      ],
      "metadata": {
        "id": "apF-d28QtlpK"
      }
    },
    {
      "cell_type": "markdown",
      "source": [
        "Comparação de cada $w_i$ e $b$ gerados pelos modelos"
      ],
      "metadata": {
        "id": "riL_cekzplI0"
      }
    },
    {
      "cell_type": "code",
      "execution_count": null,
      "metadata": {
        "colab": {
          "base_uri": "https://localhost:8080/",
          "height": 472
        },
        "id": "SqllZJ6ar6lF",
        "outputId": "81ff0fb9-cb70-4b2b-e686-069f1b327718"
      },
      "outputs": [
        {
          "output_type": "display_data",
          "data": {
            "text/plain": [
              "<Figure size 640x480 with 1 Axes>"
            ],
            "image/png": "[encoded data removed]"
          },
          "metadata": {}
        }
      ],
      "source": [
        "weights = [modelosA1[\"A1M1\"][\"wi\"], modelosA1[\"A1M2\"][\"wi\"], modelosA1[\"A1M3\"][\"wi\"]]\n",
        "bias = [modelosA1[\"A1M1\"][\"b\"], modelosA1[\"A1M2\"][\"b\"], modelosA1[\"A1M3\"][\"b\"]]\n",
        "\n",
        "plt.plot(modelosA1.keys(), weights, color='green', marker='o', linestyle='dashed', linewidth=2, markersize=12, label = 'Weights (wi)')\n",
        "plt.plot(modelosA1.keys(), bias, color='blue', marker='o', linestyle='dashed', linewidth=2, markersize=12, label = 'Bias B')\n",
        "plt.title('Model weights')\n",
        "plt.xlabel('model')\n",
        "plt.legend(loc=\"best\")\n",
        "plt.show()"
      ]
    },
    {
      "cell_type": "markdown",
      "source": [
        "Comparação das previsões de cada modelo"
      ],
      "metadata": {
        "id": "cd638RGnpw8x"
      }
    },
    {
      "cell_type": "code",
      "execution_count": null,
      "metadata": {
        "colab": {
          "base_uri": "https://localhost:8080/",
          "height": 472
        },
        "id": "QgZODenF8Ag4",
        "outputId": "9cd562fa-f0a1-41e0-d720-3cae5f7865b4"
      },
      "outputs": [
        {
          "output_type": "display_data",
          "data": {
            "text/plain": [
              "<Figure size 640x480 with 1 Axes>"
            ],
            "image/png": "[encoded data removed]"
          },
          "metadata": {}
        }
      ],
      "source": [
        "plt.plot(modelosA1.keys(), [predictA1M1[0], predictA1M2[0], predictA1M3[0]], color='green', marker='o', linestyle='dashed', linewidth=2, markersize=12, label = 'Y')\n",
        "plt.title('Model predicts')\n",
        "plt.xlabel('model')\n",
        "plt.legend(loc=\"best\")\n",
        "plt.show()"
      ]
    },
    {
      "cell_type": "markdown",
      "source": [
        "## Conclusão"
      ],
      "metadata": {
        "id": "oPznh6Sa4VaD"
      }
    },
    {
      "cell_type": "markdown",
      "source": [
        "Observamos que o número de épocas no treinamento de redes neurais é crucial e traz consequência tanto para o tempo computacional, quanto para a capacidade do modelo de alcançar resultados mais precisos.\n",
        "\n",
        "Além disso, sabemos que o treinamento de redes neurais é um processo iterativo, em que o modelo é ajustado gradualmente para minimizar a perda. Por isso, modelos treinados por mais tempo tendem a ter uma melhor capacidade de generalização."
      ],
      "metadata": {
        "id": "0enXjN59p86X"
      }
    },
    {
      "cell_type": "markdown",
      "source": [
        "# Questão 2"
      ],
      "metadata": {
        "id": "KtBFg8vftRN9"
      }
    },
    {
      "cell_type": "markdown",
      "source": [
        "## Criação e treinamento das redes neurais"
      ],
      "metadata": {
        "id": "ixNO4Dr9tiTq"
      }
    },
    {
      "cell_type": "code",
      "source": [
        "import tensorflow as tf\n",
        "import numpy as np\n",
        "import matplotlib.pyplot as plt"
      ],
      "metadata": {
        "id": "uNSOpC1ktStF"
      },
      "execution_count": null,
      "outputs": []
    },
    {
      "cell_type": "code",
      "source": [
        "# Define alguns dados para treino (xs como entradas e ys como saídas)\n",
        "\n",
        "xs = np.array([-1.0,  0.0, 1.0, 2.0, 3.0, 4.0], dtype=float)\n",
        "ys = np.array([-3.0, -1.0, 1.0, 3.0, 5.0, 7.0], dtype=float)\n",
        "\n",
        "# Adaptando o xs para o shape correto\n",
        "xs = np.array([[-1.0, -1.0], [0.0, 0.0], [1.0, 1.0], [2.0, 2.0], [3.0, 3.0], [4.0, 4.0]], dtype=float)"
      ],
      "metadata": {
        "id": "1BvCUL8CuAWN"
      },
      "execution_count": null,
      "outputs": []
    },
    {
      "cell_type": "code",
      "source": [
        "# Criando as redes neurais\n",
        "\n",
        "A2M1 = tf.keras.Sequential(\n",
        "          [tf.keras.layers.Dense(1, input_shape=[2])]\n",
        "    )\n",
        "\n",
        "A2M2 = tf.keras.Sequential(\n",
        "          [tf.keras.layers.Dense(1, input_shape=[2])]\n",
        "    )\n",
        "\n",
        "A2M3 = tf.keras.Sequential(\n",
        "          [tf.keras.layers.Dense(1, input_shape=[2])]\n",
        "    )\n",
        "\n",
        "# Compilando\n",
        "\n",
        "A2M1.compile(optimizer='sgd', loss='mean_squared_error')\n",
        "A2M2.compile(optimizer='sgd', loss='mean_squared_error')\n",
        "A2M3.compile(optimizer='sgd', loss='mean_squared_error')\n",
        "\n",
        "A2M1.save(\"A2M1.h5\")"
      ],
      "metadata": {
        "id": "Ixiu2kzXuDIB",
        "colab": {
          "base_uri": "https://localhost:8080/"
        },
        "outputId": "b212d095-327a-4077-ee03-a71a40fcf74d"
      },
      "execution_count": null,
      "outputs": [
        {
          "output_type": "stream",
          "name": "stderr",
          "text": [
            "/usr/local/lib/python3.10/dist-packages/keras/src/engine/training.py:3103: UserWarning: You are saving your model as an HDF5 file via `model.save()`. This file format is considered legacy. We recommend using instead the native Keras format, e.g. `model.save('my_model.keras')`.\n",
            "  saving_api.save_model(\n"
          ]
        }
      ]
    },
    {
      "cell_type": "code",
      "source": [
        "!pip install netron"
      ],
      "metadata": {
        "colab": {
          "base_uri": "https://localhost:8080/"
        },
        "id": "p6iarAUbK5zz",
        "outputId": "776f0092-b4f8-462e-8460-7cc3c7915aac"
      },
      "execution_count": null,
      "outputs": [
        {
          "output_type": "stream",
          "name": "stdout",
          "text": [
            "Collecting netron\n",
            "  Downloading netron-7.3.4-py3-none-any.whl (1.6 MB)\n",
            "\u001b[2K     \u001b[90m━━━━━━━━━━━━━━━━━━━━━━━━━━━━━━━━━━━━━━━━\u001b[0m \u001b[32m1.6/1.6 MB\u001b[0m \u001b[31m9.0 MB/s\u001b[0m eta \u001b[36m0:00:00\u001b[0m\n",
            "\u001b[?25hInstalling collected packages: netron\n",
            "Successfully installed netron-7.3.4\n"
          ]
        }
      ]
    },
    {
      "cell_type": "code",
      "source": [
        "#visualizar usando Netron\n",
        "import netron\n",
        "import portpicker\n",
        "from google.colab import output\n",
        "\n",
        "port = portpicker.pick_unused_port()\n",
        "\n",
        "# Read the model file and start the netron browser.\n",
        "with output.temporary():\n",
        "  netron.start('A2M1.h5', port, browse=False)\n",
        "\n",
        "output.serve_kernel_port_as_iframe(port, height='800')"
      ],
      "metadata": {
        "colab": {
          "base_uri": "https://localhost:8080/",
          "height": 821
        },
        "id": "z-62d1EiKaL5",
        "outputId": "47198b90-e45f-45bd-ae59-b7d1e0f8b533"
      },
      "execution_count": null,
      "outputs": [
        {
          "output_type": "display_data",
          "data": {
            "text/plain": [
              "<IPython.core.display.Javascript object>"
            ],
            "application/javascript": [
              "(async (port, path, width, height, cache, element) => {\n",
              "    if (!google.colab.kernel.accessAllowed && !cache) {\n",
              "      return;\n",
              "    }\n",
              "    element.appendChild(document.createTextNode(''));\n",
              "    const url = await google.colab.kernel.proxyPort(port, {cache});\n",
              "    const iframe = document.createElement('iframe');\n",
              "    iframe.src = new URL(path, url).toString();\n",
              "    iframe.height = height;\n",
              "    iframe.width = width;\n",
              "    iframe.style.border = 0;\n",
              "    iframe.allow = [\n",
              "        'accelerometer',\n",
              "        'autoplay',\n",
              "        'camera',\n",
              "        'clipboard-read',\n",
              "        'clipboard-write',\n",
              "        'gyroscope',\n",
              "        'magnetometer',\n",
              "        'microphone',\n",
              "        'serial',\n",
              "        'usb',\n",
              "        'xr-spatial-tracking',\n",
              "    ].join('; ');\n",
              "    element.appendChild(iframe);\n",
              "  })(35781, \"/\", \"100%\", \"800\", false, window.element)"
            ]
          },
          "metadata": {}
        }
      ]
    },
    {
      "cell_type": "code",
      "source": [
        "# Criando o dicionário de weights e bias\n",
        "\n",
        "modelosA2 = {\n",
        "  \"A2M1\": {\n",
        "    \"wi\": None,\n",
        "    \"b\": None\n",
        "  },\n",
        "  \"A2M2\": {\n",
        "    \"wi\": None,\n",
        "    \"b\": None\n",
        "  },\n",
        "  \"A2M3\": {\n",
        "    \"wi\": None,\n",
        "    \"b\": None\n",
        "  }\n",
        "}\n",
        "\n",
        "# Treinando as redes neurais\n",
        "\n",
        "A2M1_History = A2M1.fit(xs, ys, epochs=100, verbose=0)\n",
        "modelosA2[\"A2M1\"][\"wi\"] = A2M1.get_weights()[0][0][0] + A2M1.get_weights()[0][1][0]\n",
        "modelosA2[\"A2M1\"][\"b\"] = A2M1.get_weights()[1][0]\n",
        "\n",
        "A2M2_History = A2M2.fit(xs, ys, epochs=300, verbose=0)\n",
        "modelosA2[\"A2M2\"][\"wi\"] = A2M2.get_weights()[0][0][0] + A2M2.get_weights()[0][1][0]\n",
        "modelosA2[\"A2M2\"][\"b\"] = A2M2.get_weights()[1][0]\n",
        "\n",
        "A2M3_History = A2M3.fit(xs, ys, epochs=500, verbose=0)\n",
        "modelosA2[\"A2M3\"][\"wi\"] = A2M3.get_weights()[0][0][0] + A2M3.get_weights()[0][1][0]\n",
        "modelosA2[\"A2M3\"][\"b\"] = A2M3.get_weights()[1][0]\n",
        "\n",
        "valor = np.array([[10.0, 10.0]])\n",
        "\n",
        "predictA2M1 = A2M1.predict(valor)\n",
        "predictA2M2 = A2M2.predict(valor)\n",
        "predictA2M3 = A2M3.predict(valor)"
      ],
      "metadata": {
        "colab": {
          "base_uri": "https://localhost:8080/"
        },
        "id": "zfuBk-JPu-UC",
        "outputId": "6f68d098-21b1-493b-ad11-00016c855882"
      },
      "execution_count": null,
      "outputs": [
        {
          "output_type": "stream",
          "name": "stdout",
          "text": [
            "1/1 [==============================] - 0s 26ms/step\n"
          ]
        },
        {
          "output_type": "stream",
          "name": "stderr",
          "text": [
            "WARNING:tensorflow:5 out of the last 5 calls to <function Model.make_predict_function.<locals>.predict_function at 0x78d7c0c836d0> triggered tf.function retracing. Tracing is expensive and the excessive number of tracings could be due to (1) creating @tf.function repeatedly in a loop, (2) passing tensors with different shapes, (3) passing Python objects instead of tensors. For (1), please define your @tf.function outside of the loop. For (2), @tf.function has reduce_retracing=True option that can avoid unnecessary retracing. For (3), please refer to https://www.tensorflow.org/guide/function#controlling_retracing and https://www.tensorflow.org/api_docs/python/tf/function for  more details.\n"
          ]
        },
        {
          "output_type": "stream",
          "name": "stdout",
          "text": [
            "1/1 [==============================] - 0s 33ms/step\n"
          ]
        },
        {
          "output_type": "stream",
          "name": "stderr",
          "text": [
            "WARNING:tensorflow:6 out of the last 6 calls to <function Model.make_predict_function.<locals>.predict_function at 0x78d7bb28c1f0> triggered tf.function retracing. Tracing is expensive and the excessive number of tracings could be due to (1) creating @tf.function repeatedly in a loop, (2) passing tensors with different shapes, (3) passing Python objects instead of tensors. For (1), please define your @tf.function outside of the loop. For (2), @tf.function has reduce_retracing=True option that can avoid unnecessary retracing. For (3), please refer to https://www.tensorflow.org/guide/function#controlling_retracing and https://www.tensorflow.org/api_docs/python/tf/function for  more details.\n"
          ]
        },
        {
          "output_type": "stream",
          "name": "stdout",
          "text": [
            "1/1 [==============================] - 0s 35ms/step\n"
          ]
        }
      ]
    },
    {
      "cell_type": "markdown",
      "source": [
        "## Análises gráficas de cada modelo"
      ],
      "metadata": {
        "id": "8CjJzABzQHes"
      }
    },
    {
      "cell_type": "markdown",
      "source": [
        "Comparação de cada $w_i$ e $b$ gerados pelos modelos"
      ],
      "metadata": {
        "id": "XbtY3VrUQHe2"
      }
    },
    {
      "cell_type": "code",
      "execution_count": null,
      "metadata": {
        "colab": {
          "base_uri": "https://localhost:8080/",
          "height": 472
        },
        "outputId": "b44d68b8-c293-4f7e-cc5c-8d39e409924e",
        "id": "cO8xq-zDQHe3"
      },
      "outputs": [
        {
          "output_type": "display_data",
          "data": {
            "text/plain": [
              "<Figure size 640x480 with 1 Axes>"
            ],
            "image/png": "[encoded data removed]"
          },
          "metadata": {}
        }
      ],
      "source": [
        "weights = [modelosA2[\"A2M1\"][\"wi\"], modelosA2[\"A2M2\"][\"wi\"], modelosA2[\"A2M3\"][\"wi\"]]\n",
        "bias = [modelosA2[\"A2M1\"][\"b\"], modelosA2[\"A2M2\"][\"b\"], modelosA2[\"A2M3\"][\"b\"]]\n",
        "\n",
        "plt.plot(modelosA2.keys(), weights, color='green', marker='o', linestyle='dashed', linewidth=2, markersize=12, label = 'Weights (wi)')\n",
        "plt.plot(modelosA2.keys(), bias, color='blue', marker='o', linestyle='dashed', linewidth=2, markersize=12, label = 'Bias B')\n",
        "plt.title('Model weights')\n",
        "plt.xlabel('model')\n",
        "plt.legend(loc=\"best\")\n",
        "plt.show()"
      ]
    },
    {
      "cell_type": "markdown",
      "source": [
        "Comparação das previsões de cada modelo"
      ],
      "metadata": {
        "id": "Q2EhZRSMQHe3"
      }
    },
    {
      "cell_type": "code",
      "execution_count": null,
      "metadata": {
        "colab": {
          "base_uri": "https://localhost:8080/",
          "height": 472
        },
        "outputId": "b86fd0a3-e0f8-46a0-9409-7e155ec0fe1c",
        "id": "T_RwDiBeQHe3"
      },
      "outputs": [
        {
          "output_type": "display_data",
          "data": {
            "text/plain": [
              "<Figure size 640x480 with 1 Axes>"
            ],
            "image/png": "[encoded data removed]"
          },
          "metadata": {}
        }
      ],
      "source": [
        "plt.plot(modelosA2.keys(), [predictA2M1[0], predictA2M2[0], predictA2M3[0]], color='green', marker='o', linestyle='dashed', linewidth=2, markersize=12, label = 'Y')\n",
        "plt.title('Model predicts')\n",
        "plt.xlabel('model')\n",
        "plt.legend(loc=\"best\")\n",
        "plt.show()"
      ]
    },
    {
      "cell_type": "markdown",
      "source": [
        "## Comparação entre as arquiteturas"
      ],
      "metadata": {
        "id": "99dATfiBpHkF"
      }
    },
    {
      "cell_type": "markdown",
      "source": [
        "**Obs.:** Os códigos da Questão 1 devem ser executados para que as comparações entre os modelos possam ser realizadas"
      ],
      "metadata": {
        "id": "BdNbjN4YtUTt"
      }
    },
    {
      "cell_type": "code",
      "source": [
        "modelos = {**modelosA1, **modelosA2}"
      ],
      "metadata": {
        "id": "sWqICykiv6CL"
      },
      "execution_count": null,
      "outputs": []
    },
    {
      "cell_type": "code",
      "source": [
        "modelos"
      ],
      "metadata": {
        "colab": {
          "base_uri": "https://localhost:8080/"
        },
        "id": "TW-yllGY_wxU",
        "outputId": "d0aeca6a-624f-4478-b847-3355758f9b04"
      },
      "execution_count": null,
      "outputs": [
        {
          "output_type": "execute_result",
          "data": {
            "text/plain": [
              "{'A1M1': {'wi': 1.8805097, 'b': -0.62954426},\n",
              " 'A1M2': {'wi': 1.9733609, 'b': -0.9174098},\n",
              " 'A1M3': {'wi': 1.9972782, 'b': -0.9915615},\n",
              " 'A2M1': {'wi': 1.8668313, 'b': -0.56529933},\n",
              " 'A2M2': {'wi': 1.9859803, 'b': -0.9542356},\n",
              " 'A2M3': {'wi': 1.9984145, 'b': -0.99482423}}"
            ]
          },
          "metadata": {},
          "execution_count": 28
        }
      ]
    },
    {
      "cell_type": "markdown",
      "source": [],
      "metadata": {
        "id": "yBDlAqs-wLrB"
      }
    },
    {
      "cell_type": "code",
      "source": [
        "# Pares de arquitetura para comparar\n",
        "model_pairs = [(\"A1M1\", \"A2M1\"), (\"A1M2\", \"A2M2\"), (\"A1M3\", \"A2M3\")]\n",
        "\n",
        "# Gráficos de barras agrupado\n",
        "for pair in model_pairs:\n",
        "    model1, model2 = pair\n",
        "\n",
        "    # Extração dos dados\n",
        "    model_names = [model1, model2]\n",
        "    wi_values = [modelos[model][ \"wi\"] for model in model_names]\n",
        "    b_values = [modelos[model][\"b\"] for model in model_names]\n",
        "\n",
        "    # Set up de tamanhos e posições\n",
        "    bar_width = 0.35\n",
        "    index = np.arange(len(model_names))\n",
        "    bar1_positions = [i - bar_width/2 for i in index]\n",
        "    bar2_positions = [i + bar_width/2 for i in index]\n",
        "\n",
        "    # Criação da fig\n",
        "    fig, ax = plt.subplots(figsize=(8, 5))\n",
        "\n",
        "    # Grupos de barras\n",
        "    ax.bar(bar1_positions, wi_values, width=bar_width, label='wi')\n",
        "    ax.bar(bar2_positions, b_values, width=bar_width, label='b')\n",
        "\n",
        "    # Configurações gerais\n",
        "    ax.set_xlabel('Models')\n",
        "    ax.set_ylabel('Values')\n",
        "    ax.set_title(f'Comparison between {model1} and {model2}')\n",
        "    ax.set_xticks(index)\n",
        "    ax.set_xticklabels(model_names)\n",
        "    ax.legend()\n",
        "\n",
        "    plt.show()"
      ],
      "metadata": {
        "colab": {
          "base_uri": "https://localhost:8080/",
          "height": 1000
        },
        "id": "lz63CujGpjwH",
        "outputId": "129ef108-26dc-4de2-8f23-f01efff49e47"
      },
      "execution_count": null,
      "outputs": [
        {
          "output_type": "display_data",
          "data": {
            "text/plain": [
              "<Figure size 800x500 with 1 Axes>"
            ],
            "image/png": "[encoded data removed]"
          },
          "metadata": {}
        },
        {
          "output_type": "display_data",
          "data": {
            "text/plain": [
              "<Figure size 800x500 with 1 Axes>"
            ],
            "image/png": "[encoded data removed]"
          },
          "metadata": {}
        },
        {
          "output_type": "display_data",
          "data": {
            "text/plain": [
              "<Figure size 800x500 with 1 Axes>"
            ],
            "image/png": "[encoded data removed]"
          },
          "metadata": {}
        }
      ]
    },
    {
      "cell_type": "code",
      "source": [
        "# Ambos os dois resultados em um único dicionário\n",
        "modelos = {**modelosA1, **modelosA2}\n",
        "\n",
        "# Extração dos dados do dicionário 'modelos'\n",
        "model_names = list(modelos.keys())\n",
        "wi_values = [modelos[model][\"wi\"] for model in model_names]\n",
        "b_values = [modelos[model][\"b\"] for model in model_names]\n",
        "\n",
        "# Set up dos tamanhos e posições\n",
        "bar_width = 0.35\n",
        "index = range(len(model_names))\n",
        "bar1_positions = [i - bar_width/2 for i in index]\n",
        "bar2_positions = [i + bar_width/2 for i in index]\n",
        "\n",
        "# Criação dos grupos de barras\n",
        "plt.bar(bar1_positions, wi_values, width=bar_width, label='wi')\n",
        "plt.bar(bar2_positions, b_values, width=bar_width, label='b')\n",
        "\n",
        "# Configurações gerais\n",
        "plt.xlabel('Models')\n",
        "plt.ylabel('Values')\n",
        "plt.title('Grouped Bar Chart for wi and b')\n",
        "plt.xticks(index, model_names)\n",
        "plt.legend()\n",
        "\n",
        "# Step 5: Show the chart\n",
        "plt.show()"
      ],
      "metadata": {
        "colab": {
          "base_uri": "https://localhost:8080/",
          "height": 472
        },
        "id": "gLcecciZshN1",
        "outputId": "677a402b-a583-4bfc-ba86-bbf39ebd15c8"
      },
      "execution_count": null,
      "outputs": [
        {
          "output_type": "display_data",
          "data": {
            "text/plain": [
              "<Figure size 640x480 with 1 Axes>"
            ],
            "image/png": "[encoded data removed]"
          },
          "metadata": {}
        }
      ]
    },
    {
      "cell_type": "markdown",
      "source": [
        "## Conclusão"
      ],
      "metadata": {
        "id": "PDK4kqcS4Qwo"
      }
    },
    {
      "cell_type": "markdown",
      "source": [
        "As arquiteturas diferem pouco na sua precisão. Na segunda arquitetura, adicionar um novo neurônio na camada de input se mostrou um pouco mais eficiente em relação à precisão na estimativa dos pesos.\n",
        "\n",
        "No fim das contas, ambas as arquiteturas convergiram pra uma previsão de $19$ ao receber o valor $10$ como input, mostrando que o aumento de épocas é, neste caso, mais relevante do que a repetição dos dados de input através do aumento de neurônios."
      ],
      "metadata": {
        "id": "02mY6Ib63UY9"
      }
    },
    {
      "cell_type": "code",
      "source": [],
      "metadata": {
        "id": "9X5c0YlxBSLU"
      },
      "execution_count": null,
      "outputs": []
    }
  ],
  "metadata": {
    "colab": {
      "provenance": [],
      "collapsed_sections": [
        "8CjJzABzQHes"
      ]
    },
    "kernelspec": {
      "display_name": "Python 3",
      "name": "python3"
    },
    "language_info": {
      "name": "python"
    }
  },
  "nbformat": 4,
  "nbformat_minor": 0
}